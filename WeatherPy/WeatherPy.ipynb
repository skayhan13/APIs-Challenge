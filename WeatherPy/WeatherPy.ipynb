{
 "cells": [
  {
   "cell_type": "markdown",
   "metadata": {},
   "source": [
    "# WeatherPy\n",
    "----\n",
    "\n",
    "#### Note\n",
    "* Instructions have been included for each segment. You do not have to follow them exactly, but they are included to help you think through the steps."
   ]
  },
  {
   "cell_type": "code",
   "execution_count": 36,
   "metadata": {
    "scrolled": true
   },
   "outputs": [],
   "source": [
    "# Dependencies and Setup\n",
    "import matplotlib.pyplot as plt\n",
    "import pandas as pd\n",
    "import numpy as np\n",
    "import requests\n",
    "import time\n",
    "import scipy.stats as st\n",
    "from scipy.stats import linregress\n",
    "\n",
    "# Import API key\n",
    "from config import api_key\n",
    "\n",
    "# Incorporated citipy to determine city based on latitude and longitude\n",
    "from citipy import citipy\n",
    "\n",
    "# Output File (CSV)\n",
    "output_data_file = \"output_data/cities.csv\"\n",
    "\n",
    "# Range of latitudes and longitudes\n",
    "lat_range = (-90, 90)\n",
    "lng_range = (-180, 180)"
   ]
  },
  {
   "cell_type": "markdown",
   "metadata": {},
   "source": [
    "## Generate Cities List"
   ]
  },
  {
   "cell_type": "code",
   "execution_count": 5,
   "metadata": {},
   "outputs": [
    {
     "data": {
      "text/plain": [
       "'15557633fe5d94bc7cada488e308c88c'"
      ]
     },
     "execution_count": 5,
     "metadata": {},
     "output_type": "execute_result"
    }
   ],
   "source": [
    "api_key #this was a test to see if my api key was successfully stored "
   ]
  },
  {
   "cell_type": "code",
   "execution_count": 6,
   "metadata": {},
   "outputs": [
    {
     "data": {
      "text/plain": [
       "621"
      ]
     },
     "execution_count": 6,
     "metadata": {},
     "output_type": "execute_result"
    }
   ],
   "source": [
    "# List for holding lat_lngs and cities\n",
    "lat_lngs = []\n",
    "cities = []\n",
    "\n",
    "# Create a set of random lat and lng combinations\n",
    "lats = np.random.uniform(lat_range[0], lat_range[1], size=1500)\n",
    "lngs = np.random.uniform(lng_range[0], lng_range[1], size=1500)\n",
    "lat_lngs = zip(lats, lngs)\n",
    "\n",
    "# Identify nearest city for each lat, lng combination\n",
    "for lat_lng in lat_lngs:\n",
    "    city = citipy.nearest_city(lat_lng[0], lat_lng[1]).city_name\n",
    "    \n",
    "    # If the city is unique, then add it to a our cities list\n",
    "    if city not in cities:\n",
    "        cities.append(city)\n",
    "\n",
    "# Print the city count to confirm sufficient count\n",
    "len(cities)"
   ]
  },
  {
   "cell_type": "markdown",
   "metadata": {},
   "source": [
    "### Perform API Calls\n",
    "* Perform a weather check on each city using a series of successive API calls.\n",
    "* Include a print log of each city as it's being processed (with the city number and city name).\n"
   ]
  },
  {
   "cell_type": "code",
   "execution_count": 8,
   "metadata": {
    "scrolled": false
   },
   "outputs": [
    {
     "name": "stdout",
     "output_type": "stream",
     "text": [
      "Processing Record 1 of Set 1 : daru\n",
      "Processing Record 2 of Set 1 : punta arenas\n",
      "Processing Record 3 of Set 1 : mizan teferi\n",
      "Processing Record 4 of Set 1 : jamestown\n",
      "Processing Record 5 of Set 1 : nikolskoye\n",
      "Processing Record 6 of Set 1 : rikitea\n",
      "Processing Record 7 of Set 1 : hermanus\n",
      "Processing Record 8 of Set 1 : kruisfontein\n",
      "City not found. Skipping...\n",
      "Processing Record 9 of Set 1 : mataura\n",
      "Processing Record 10 of Set 1 : saint-pierre\n",
      "City not found. Skipping...\n",
      "Processing Record 11 of Set 1 : yellowknife\n",
      "Processing Record 12 of Set 1 : barrow\n",
      "Processing Record 13 of Set 1 : lebu\n",
      "Processing Record 14 of Set 1 : cayenne\n",
      "Processing Record 15 of Set 1 : komsomolskiy\n",
      "Processing Record 16 of Set 1 : busselton\n",
      "Processing Record 17 of Set 1 : bredasdorp\n",
      "Processing Record 18 of Set 1 : thompson\n",
      "Processing Record 19 of Set 1 : vaini\n",
      "Processing Record 20 of Set 1 : new norfolk\n",
      "Processing Record 21 of Set 1 : cabo san lucas\n",
      "Processing Record 22 of Set 1 : meulaboh\n",
      "Processing Record 23 of Set 1 : puerto ayora\n",
      "Processing Record 24 of Set 1 : baykit\n",
      "Processing Record 25 of Set 1 : general pico\n",
      "Processing Record 26 of Set 1 : westport\n",
      "Processing Record 27 of Set 1 : avera\n",
      "Processing Record 28 of Set 1 : den helder\n",
      "Processing Record 29 of Set 1 : bluff\n",
      "Processing Record 30 of Set 1 : portland\n",
      "Processing Record 31 of Set 1 : dikson\n",
      "Processing Record 32 of Set 1 : victoria\n",
      "City not found. Skipping...\n",
      "Processing Record 33 of Set 1 : harper\n",
      "Processing Record 34 of Set 1 : pangnirtung\n",
      "Processing Record 35 of Set 1 : wukari\n",
      "Processing Record 36 of Set 1 : ayan\n",
      "City not found. Skipping...\n",
      "Processing Record 37 of Set 1 : aleksinac\n",
      "Processing Record 38 of Set 1 : pedra azul\n",
      "Processing Record 39 of Set 1 : bay city\n",
      "Processing Record 40 of Set 1 : tuktoyaktuk\n",
      "Processing Record 41 of Set 1 : saldanha\n",
      "Processing Record 42 of Set 1 : katherine\n",
      "Processing Record 43 of Set 1 : morant bay\n",
      "Processing Record 44 of Set 1 : andros town\n",
      "Processing Record 45 of Set 1 : albany\n",
      "Processing Record 46 of Set 1 : tazovskiy\n",
      "Processing Record 47 of Set 1 : port elizabeth\n",
      "Processing Record 48 of Set 1 : gao\n",
      "City not found. Skipping...\n",
      "Processing Record 49 of Set 1 : hirara\n",
      "Processing Record 50 of Set 1 : hobart\n",
      "Processing Record 0 of Set 2 : bambous virieux\n",
      "Processing Record 1 of Set 2 : abbeville\n",
      "City not found. Skipping...\n",
      "Processing Record 2 of Set 2 : airai\n",
      "Processing Record 3 of Set 2 : yelabuga\n",
      "Processing Record 4 of Set 2 : tiksi\n",
      "Processing Record 5 of Set 2 : qasigiannguit\n",
      "Processing Record 6 of Set 2 : volsk\n",
      "Processing Record 7 of Set 2 : laguna\n",
      "Processing Record 8 of Set 2 : green valley\n",
      "Processing Record 9 of Set 2 : carnarvon\n",
      "Processing Record 10 of Set 2 : colares\n",
      "Processing Record 11 of Set 2 : kez\n",
      "Processing Record 12 of Set 2 : kapaa\n",
      "Processing Record 13 of Set 2 : dalvik\n",
      "Processing Record 14 of Set 2 : makakilo city\n",
      "Processing Record 15 of Set 2 : angoram\n",
      "Processing Record 16 of Set 2 : lebyazhye\n",
      "Processing Record 17 of Set 2 : arman\n",
      "Processing Record 18 of Set 2 : pochutla\n",
      "Processing Record 19 of Set 2 : lorengau\n",
      "Processing Record 20 of Set 2 : konevo\n",
      "Processing Record 21 of Set 2 : beringovskiy\n",
      "Processing Record 22 of Set 2 : benguela\n",
      "Processing Record 23 of Set 2 : ushuaia\n",
      "Processing Record 24 of Set 2 : hilo\n",
      "Processing Record 25 of Set 2 : sinop\n",
      "City not found. Skipping...\n",
      "Processing Record 26 of Set 2 : taltal\n",
      "Processing Record 27 of Set 2 : berlevag\n",
      "Processing Record 28 of Set 2 : mgandu\n",
      "Processing Record 29 of Set 2 : nguruka\n",
      "Processing Record 30 of Set 2 : luderitz\n",
      "Processing Record 31 of Set 2 : mahebourg\n",
      "Processing Record 32 of Set 2 : pisco\n",
      "Processing Record 33 of Set 2 : cedar city\n",
      "Processing Record 34 of Set 2 : hithadhoo\n",
      "Processing Record 35 of Set 2 : kadaya\n",
      "Processing Record 36 of Set 2 : qaanaaq\n",
      "Processing Record 37 of Set 2 : grand forks\n",
      "Processing Record 38 of Set 2 : quang ngai\n",
      "Processing Record 39 of Set 2 : komsomolsk-na-amure\n",
      "Processing Record 40 of Set 2 : pevek\n",
      "Processing Record 41 of Set 2 : lasa\n",
      "Processing Record 42 of Set 2 : ilulissat\n",
      "Processing Record 43 of Set 2 : tommot\n",
      "Processing Record 44 of Set 2 : escada\n",
      "Processing Record 45 of Set 2 : jalu\n",
      "City not found. Skipping...\n",
      "Processing Record 46 of Set 2 : asyut\n",
      "Processing Record 47 of Set 2 : port alfred\n",
      "Processing Record 48 of Set 2 : saint george\n",
      "Processing Record 49 of Set 2 : vardo\n",
      "Processing Record 50 of Set 2 : ribeira grande\n",
      "Processing Record 0 of Set 3 : vostok\n",
      "Processing Record 1 of Set 3 : tual\n",
      "Processing Record 2 of Set 3 : rancho palos verdes\n",
      "City not found. Skipping...\n",
      "Processing Record 3 of Set 3 : souillac\n",
      "Processing Record 4 of Set 3 : umm lajj\n",
      "Processing Record 5 of Set 3 : idaho falls\n",
      "Processing Record 6 of Set 3 : san carlos de bariloche\n",
      "Processing Record 7 of Set 3 : arraial do cabo\n",
      "Processing Record 8 of Set 3 : pueblo\n",
      "Processing Record 9 of Set 3 : buta\n",
      "Processing Record 10 of Set 3 : bethel\n",
      "City not found. Skipping...\n",
      "Processing Record 11 of Set 3 : salalah\n",
      "Processing Record 12 of Set 3 : gazimurskiy zavod\n",
      "Processing Record 13 of Set 3 : fuerte olimpo\n",
      "Processing Record 14 of Set 3 : rio gallegos\n",
      "Processing Record 15 of Set 3 : palencia\n",
      "City not found. Skipping...\n",
      "Processing Record 16 of Set 3 : verkhnevilyuysk\n",
      "Processing Record 17 of Set 3 : porto nacional\n",
      "City not found. Skipping...\n",
      "Processing Record 18 of Set 3 : turukhansk\n",
      "Processing Record 19 of Set 3 : dmitriyevskaya\n",
      "Processing Record 20 of Set 3 : chunoyar\n",
      "Processing Record 21 of Set 3 : osa\n",
      "Processing Record 22 of Set 3 : ladario\n",
      "City not found. Skipping...\n",
      "Processing Record 23 of Set 3 : ugoofaaru\n",
      "Processing Record 24 of Set 3 : roxana\n",
      "Processing Record 25 of Set 3 : samarai\n",
      "Processing Record 26 of Set 3 : honningsvag\n",
      "Processing Record 27 of Set 3 : kodinsk\n",
      "Processing Record 28 of Set 3 : velyka lepetykha\n",
      "City not found. Skipping...\n",
      "Processing Record 29 of Set 3 : koumac\n",
      "Processing Record 30 of Set 3 : norman wells\n",
      "City not found. Skipping...\n",
      "Processing Record 31 of Set 3 : paamiut\n",
      "Processing Record 32 of Set 3 : teya\n",
      "Processing Record 33 of Set 3 : vila velha\n",
      "Processing Record 34 of Set 3 : coquimbo\n",
      "Processing Record 35 of Set 3 : la ronge\n",
      "Processing Record 36 of Set 3 : mercedes\n",
      "Processing Record 37 of Set 3 : lander\n",
      "Processing Record 38 of Set 3 : voh\n",
      "Processing Record 39 of Set 3 : severo-kurilsk\n",
      "Processing Record 40 of Set 3 : meadow lake\n",
      "Processing Record 41 of Set 3 : barra patuca\n",
      "Processing Record 42 of Set 3 : bom jesus da lapa\n",
      "Processing Record 43 of Set 3 : the valley\n",
      "Processing Record 44 of Set 3 : narsaq\n",
      "Processing Record 45 of Set 3 : upernavik\n",
      "Processing Record 46 of Set 3 : mugumu\n",
      "City not found. Skipping...\n",
      "Processing Record 47 of Set 3 : musayelyan\n",
      "Processing Record 48 of Set 3 : nakapiripirit\n",
      "Processing Record 49 of Set 3 : verkhnyaya inta\n",
      "Processing Record 50 of Set 3 : abeche\n",
      "Processing Record 0 of Set 4 : cape town\n",
      "Processing Record 1 of Set 4 : lakes entrance\n",
      "Processing Record 2 of Set 4 : marsh harbour\n",
      "Processing Record 3 of Set 4 : el cobre\n",
      "Processing Record 4 of Set 4 : belmonte\n",
      "Processing Record 5 of Set 4 : kabanjahe\n",
      "Processing Record 6 of Set 4 : puerto madero\n",
      "Processing Record 7 of Set 4 : port hardy\n",
      "Processing Record 8 of Set 4 : castelo branco\n",
      "City not found. Skipping...\n",
      "Processing Record 9 of Set 4 : alofi\n",
      "Processing Record 10 of Set 4 : kitimat\n",
      "Processing Record 11 of Set 4 : georgetown\n",
      "Processing Record 12 of Set 4 : akdepe\n",
      "Processing Record 13 of Set 4 : grindavik\n",
      "Processing Record 14 of Set 4 : port macquarie\n",
      "Processing Record 15 of Set 4 : esperance\n",
      "Processing Record 16 of Set 4 : santa maria\n",
      "Processing Record 17 of Set 4 : birao\n",
      "Processing Record 18 of Set 4 : sibolga\n",
      "Processing Record 19 of Set 4 : dingle\n",
      "Processing Record 20 of Set 4 : kununurra\n",
      "Processing Record 21 of Set 4 : hastings\n",
      "Processing Record 22 of Set 4 : kermanshah\n",
      "Processing Record 23 of Set 4 : khatanga\n",
      "City not found. Skipping...\n",
      "Processing Record 24 of Set 4 : kavaratti\n",
      "Processing Record 25 of Set 4 : rudnichnyy\n",
      "Processing Record 26 of Set 4 : pirovskoye\n",
      "Processing Record 27 of Set 4 : mount gambier\n",
      "Processing Record 28 of Set 4 : iranshahr\n",
      "Processing Record 29 of Set 4 : castro\n",
      "Processing Record 30 of Set 4 : gemena\n",
      "Processing Record 31 of Set 4 : quatre cocos\n",
      "Processing Record 32 of Set 4 : avarua\n"
     ]
    },
    {
     "name": "stdout",
     "output_type": "stream",
     "text": [
      "Processing Record 33 of Set 4 : beyneu\n",
      "Processing Record 34 of Set 4 : basqal\n",
      "Processing Record 35 of Set 4 : guerrero negro\n",
      "Processing Record 36 of Set 4 : sitka\n",
      "City not found. Skipping...\n",
      "Processing Record 37 of Set 4 : benjamin constant\n",
      "Processing Record 38 of Set 4 : san juan\n",
      "Processing Record 39 of Set 4 : raudeberg\n",
      "Processing Record 40 of Set 4 : butaritari\n",
      "Processing Record 41 of Set 4 : sangre grande\n",
      "City not found. Skipping...\n",
      "City not found. Skipping...\n",
      "Processing Record 42 of Set 4 : santa isabel do rio negro\n",
      "Processing Record 43 of Set 4 : suntar\n",
      "Processing Record 44 of Set 4 : mar del plata\n",
      "Processing Record 45 of Set 4 : cartagena del chaira\n",
      "Processing Record 46 of Set 4 : tonantins\n",
      "Processing Record 47 of Set 4 : inirida\n",
      "Processing Record 48 of Set 4 : bengkulu\n",
      "Processing Record 49 of Set 4 : parkes\n",
      "Processing Record 50 of Set 4 : hovd\n",
      "Processing Record 0 of Set 5 : ashland\n",
      "Processing Record 1 of Set 5 : ponta do sol\n",
      "Processing Record 2 of Set 5 : atuona\n",
      "Processing Record 3 of Set 5 : asau\n",
      "Processing Record 4 of Set 5 : bongandanga\n",
      "City not found. Skipping...\n",
      "Processing Record 5 of Set 5 : xining\n",
      "Processing Record 6 of Set 5 : iqaluit\n",
      "Processing Record 7 of Set 5 : hamilton\n",
      "Processing Record 8 of Set 5 : baruun-urt\n",
      "City not found. Skipping...\n",
      "Processing Record 9 of Set 5 : aykhal\n",
      "Processing Record 10 of Set 5 : roald\n",
      "Processing Record 11 of Set 5 : hofn\n",
      "Processing Record 12 of Set 5 : maarianhamina\n",
      "Processing Record 13 of Set 5 : bela\n",
      "Processing Record 14 of Set 5 : saint anthony\n",
      "Processing Record 15 of Set 5 : provideniya\n",
      "City not found. Skipping...\n",
      "Processing Record 16 of Set 5 : mehran\n",
      "City not found. Skipping...\n",
      "Processing Record 17 of Set 5 : ahipara\n",
      "City not found. Skipping...\n",
      "Processing Record 18 of Set 5 : tilichiki\n",
      "Processing Record 19 of Set 5 : port said\n",
      "Processing Record 20 of Set 5 : quilmana\n",
      "Processing Record 21 of Set 5 : urumqi\n",
      "Processing Record 22 of Set 5 : yerbogachen\n",
      "Processing Record 23 of Set 5 : mozarlandia\n",
      "Processing Record 24 of Set 5 : leh\n",
      "Processing Record 25 of Set 5 : leningradskiy\n",
      "Processing Record 26 of Set 5 : liepaja\n",
      "Processing Record 27 of Set 5 : collie\n",
      "Processing Record 28 of Set 5 : klaksvik\n",
      "Processing Record 29 of Set 5 : yar-sale\n",
      "Processing Record 30 of Set 5 : gigmoto\n",
      "Processing Record 31 of Set 5 : kristiansund\n",
      "Processing Record 32 of Set 5 : cabedelo\n",
      "Processing Record 33 of Set 5 : frontera\n",
      "Processing Record 34 of Set 5 : licheng\n",
      "Processing Record 35 of Set 5 : vao\n",
      "Processing Record 36 of Set 5 : ardakan\n",
      "Processing Record 37 of Set 5 : vila franca do campo\n",
      "Processing Record 38 of Set 5 : inhambane\n",
      "Processing Record 39 of Set 5 : flin flon\n",
      "Processing Record 40 of Set 5 : wahiawa\n",
      "City not found. Skipping...\n",
      "Processing Record 41 of Set 5 : cockburn town\n",
      "Processing Record 42 of Set 5 : yarmouth\n",
      "Processing Record 43 of Set 5 : hasaki\n",
      "Processing Record 44 of Set 5 : durazno\n",
      "Processing Record 45 of Set 5 : buin\n",
      "Processing Record 46 of Set 5 : santa fe\n",
      "Processing Record 47 of Set 5 : ostrovnoy\n",
      "City not found. Skipping...\n",
      "Processing Record 48 of Set 5 : soubre\n",
      "Processing Record 49 of Set 5 : torbay\n",
      "Processing Record 50 of Set 5 : joshimath\n",
      "Processing Record 0 of Set 6 : bondoukou\n",
      "Processing Record 1 of Set 6 : tabou\n",
      "Processing Record 2 of Set 6 : tavricheskoye\n",
      "Processing Record 3 of Set 6 : kahului\n",
      "Processing Record 4 of Set 6 : solnechnyy\n",
      "Processing Record 5 of Set 6 : chokurdakh\n",
      "Processing Record 6 of Set 6 : nova aurora\n",
      "Processing Record 7 of Set 6 : biasca\n",
      "Processing Record 8 of Set 6 : port blair\n",
      "Processing Record 9 of Set 6 : divnogorsk\n",
      "Processing Record 10 of Set 6 : xuddur\n",
      "Processing Record 11 of Set 6 : tanout\n",
      "Processing Record 12 of Set 6 : saraland\n",
      "City not found. Skipping...\n",
      "Processing Record 13 of Set 6 : ulladulla\n",
      "Processing Record 14 of Set 6 : coahuayana\n",
      "Processing Record 15 of Set 6 : saint-philippe\n",
      "Processing Record 16 of Set 6 : fortuna\n",
      "Processing Record 17 of Set 6 : williamsburg\n",
      "Processing Record 18 of Set 6 : sisimiut\n",
      "Processing Record 19 of Set 6 : galveston\n",
      "Processing Record 20 of Set 6 : benghazi\n",
      "Processing Record 21 of Set 6 : tutoia\n",
      "Processing Record 22 of Set 6 : diedorf\n",
      "Processing Record 23 of Set 6 : touros\n",
      "City not found. Skipping...\n",
      "Processing Record 24 of Set 6 : pundaguitan\n",
      "Processing Record 25 of Set 6 : ulaangom\n",
      "Processing Record 26 of Set 6 : toktogul\n",
      "Processing Record 27 of Set 6 : port keats\n",
      "Processing Record 28 of Set 6 : puerto madryn\n",
      "Processing Record 29 of Set 6 : henties bay\n",
      "Processing Record 30 of Set 6 : salta\n",
      "Processing Record 31 of Set 6 : sakaiminato\n",
      "Processing Record 32 of Set 6 : san ramon\n",
      "Processing Record 33 of Set 6 : ponta delgada\n",
      "Processing Record 34 of Set 6 : ferme-neuve\n",
      "Processing Record 35 of Set 6 : george\n",
      "Processing Record 36 of Set 6 : tsotilion\n",
      "Processing Record 37 of Set 6 : brae\n",
      "Processing Record 38 of Set 6 : pandan\n",
      "City not found. Skipping...\n",
      "Processing Record 39 of Set 6 : aripuana\n",
      "Processing Record 40 of Set 6 : mogadishu\n",
      "Processing Record 41 of Set 6 : maningrida\n",
      "Processing Record 42 of Set 6 : kodiak\n",
      "Processing Record 43 of Set 6 : kholm\n",
      "Processing Record 44 of Set 6 : cruzilia\n",
      "Processing Record 45 of Set 6 : dharchula\n",
      "Processing Record 46 of Set 6 : adrar\n",
      "Processing Record 47 of Set 6 : aonla\n",
      "Processing Record 48 of Set 6 : vanimo\n",
      "City not found. Skipping...\n",
      "Processing Record 49 of Set 6 : tigil\n",
      "Processing Record 50 of Set 6 : evensk\n",
      "Processing Record 0 of Set 7 : motema\n",
      "Processing Record 1 of Set 7 : flinders\n",
      "Processing Record 2 of Set 7 : kennett\n",
      "Processing Record 3 of Set 7 : chhapra\n",
      "Processing Record 4 of Set 7 : zacualpan\n",
      "Processing Record 5 of Set 7 : san policarpo\n",
      "Processing Record 6 of Set 7 : fukue\n",
      "Processing Record 7 of Set 7 : tessaoua\n",
      "Processing Record 8 of Set 7 : clyde river\n",
      "Processing Record 9 of Set 7 : erzin\n",
      "Processing Record 10 of Set 7 : delray beach\n",
      "Processing Record 11 of Set 7 : terrace\n",
      "Processing Record 12 of Set 7 : palmas bellas\n",
      "Processing Record 13 of Set 7 : pajapan\n",
      "Processing Record 14 of Set 7 : pathalgaon\n",
      "Processing Record 15 of Set 7 : micheweni\n",
      "Processing Record 16 of Set 7 : kaeo\n",
      "Processing Record 17 of Set 7 : zhoukou\n",
      "Processing Record 18 of Set 7 : kavieng\n",
      "Processing Record 19 of Set 7 : tirano\n",
      "Processing Record 20 of Set 7 : caravelas\n",
      "Processing Record 21 of Set 7 : lavrentiya\n",
      "Processing Record 22 of Set 7 : longyearbyen\n",
      "Processing Record 23 of Set 7 : ancud\n",
      "Processing Record 24 of Set 7 : cidreira\n",
      "Processing Record 25 of Set 7 : petropavlovsk-kamchatskiy\n",
      "Processing Record 26 of Set 7 : asfi\n",
      "Processing Record 27 of Set 7 : cherskiy\n",
      "City not found. Skipping...\n",
      "Processing Record 28 of Set 7 : dubbo\n",
      "Processing Record 29 of Set 7 : mayo\n",
      "Processing Record 30 of Set 7 : port lincoln\n",
      "Processing Record 31 of Set 7 : camacha\n",
      "Processing Record 32 of Set 7 : high level\n",
      "City not found. Skipping...\n",
      "Processing Record 33 of Set 7 : sokolo\n",
      "Processing Record 34 of Set 7 : faya\n",
      "Processing Record 35 of Set 7 : wuan\n",
      "Processing Record 36 of Set 7 : nemuro\n",
      "Processing Record 37 of Set 7 : arlit\n",
      "Processing Record 38 of Set 7 : katobu\n",
      "Processing Record 39 of Set 7 : kaitangata\n",
      "Processing Record 40 of Set 7 : unai\n",
      "Processing Record 41 of Set 7 : waddan\n",
      "City not found. Skipping...\n",
      "Processing Record 42 of Set 7 : nucet\n",
      "Processing Record 43 of Set 7 : erice\n",
      "Processing Record 44 of Set 7 : moron\n",
      "Processing Record 45 of Set 7 : bonavista\n",
      "Processing Record 46 of Set 7 : beli manastir\n",
      "Processing Record 47 of Set 7 : havoysund\n",
      "Processing Record 48 of Set 7 : elat\n",
      "Processing Record 49 of Set 7 : kenora\n",
      "Processing Record 50 of Set 7 : pakxan\n",
      "Processing Record 0 of Set 8 : muli\n",
      "Processing Record 1 of Set 8 : rapid valley\n",
      "Processing Record 2 of Set 8 : valleyview\n",
      "Processing Record 3 of Set 8 : goalpara\n",
      "Processing Record 4 of Set 8 : biak\n",
      "Processing Record 5 of Set 8 : nochistlan\n",
      "Processing Record 6 of Set 8 : kushiro\n",
      "Processing Record 7 of Set 8 : placido de castro\n",
      "Processing Record 8 of Set 8 : stykkisholmur\n",
      "Processing Record 9 of Set 8 : east london\n",
      "Processing Record 10 of Set 8 : touho\n",
      "Processing Record 11 of Set 8 : husavik\n",
      "Processing Record 12 of Set 8 : the pas\n",
      "Processing Record 13 of Set 8 : reconquista\n",
      "Processing Record 14 of Set 8 : wanning\n",
      "Processing Record 15 of Set 8 : glendive\n"
     ]
    },
    {
     "name": "stdout",
     "output_type": "stream",
     "text": [
      "Processing Record 16 of Set 8 : tasiilaq\n",
      "Processing Record 17 of Set 8 : harboore\n",
      "Processing Record 18 of Set 8 : richards bay\n",
      "Processing Record 19 of Set 8 : kalmunai\n",
      "Processing Record 20 of Set 8 : vestmannaeyjar\n",
      "Processing Record 21 of Set 8 : koslan\n",
      "City not found. Skipping...\n",
      "Processing Record 22 of Set 8 : minsk\n",
      "City not found. Skipping...\n",
      "Processing Record 23 of Set 8 : zhumadian\n",
      "City not found. Skipping...\n",
      "Processing Record 24 of Set 8 : fairbanks\n",
      "Processing Record 25 of Set 8 : olpad\n",
      "Processing Record 26 of Set 8 : chandbali\n",
      "Processing Record 27 of Set 8 : hualmay\n",
      "City not found. Skipping...\n",
      "Processing Record 28 of Set 8 : buala\n",
      "Processing Record 29 of Set 8 : sidney\n",
      "Processing Record 30 of Set 8 : goure\n",
      "Processing Record 31 of Set 8 : chuy\n",
      "Processing Record 32 of Set 8 : yulara\n",
      "Processing Record 33 of Set 8 : tomatlan\n",
      "Processing Record 34 of Set 8 : faanui\n",
      "Processing Record 35 of Set 8 : fare\n",
      "Processing Record 36 of Set 8 : ciudad bolivar\n",
      "Processing Record 37 of Set 8 : plouzane\n",
      "Processing Record 38 of Set 8 : tuatapere\n",
      "Processing Record 39 of Set 8 : indian head\n",
      "Processing Record 40 of Set 8 : sungaipenuh\n",
      "Processing Record 41 of Set 8 : shelburne\n",
      "Processing Record 42 of Set 8 : anqing\n",
      "Processing Record 43 of Set 8 : hanna\n",
      "Processing Record 44 of Set 8 : itainopolis\n",
      "Processing Record 45 of Set 8 : fort nelson\n",
      "Processing Record 46 of Set 8 : padang\n",
      "Processing Record 47 of Set 8 : mandalgovi\n",
      "Processing Record 48 of Set 8 : nicoya\n",
      "Processing Record 49 of Set 8 : rawson\n",
      "Processing Record 50 of Set 8 : hanzhong\n",
      "Processing Record 0 of Set 9 : lompoc\n",
      "Processing Record 1 of Set 9 : byron bay\n",
      "Processing Record 2 of Set 9 : shangzhi\n",
      "Processing Record 3 of Set 9 : uttiramerur\n",
      "Processing Record 4 of Set 9 : soissons\n",
      "Processing Record 5 of Set 9 : derzhavinsk\n",
      "Processing Record 6 of Set 9 : niedernhausen\n",
      "Processing Record 7 of Set 9 : haines junction\n",
      "Processing Record 8 of Set 9 : krasnooktyabrskiy\n",
      "Processing Record 9 of Set 9 : upington\n",
      "Processing Record 10 of Set 9 : sept-iles\n",
      "Processing Record 11 of Set 9 : kilindoni\n",
      "Processing Record 12 of Set 9 : ler\n",
      "Processing Record 13 of Set 9 : iquitos\n",
      "Processing Record 14 of Set 9 : olinda\n",
      "Processing Record 15 of Set 9 : maromitsa\n",
      "Processing Record 16 of Set 9 : salvador\n",
      "Processing Record 17 of Set 9 : garowe\n",
      "Processing Record 18 of Set 9 : emerald\n",
      "Processing Record 19 of Set 9 : krasnoselkup\n",
      "Processing Record 20 of Set 9 : shitkino\n",
      "Processing Record 21 of Set 9 : eureka\n",
      "Processing Record 22 of Set 9 : nantucket\n",
      "Processing Record 23 of Set 9 : benjamin aceval\n",
      "Processing Record 24 of Set 9 : gizo\n",
      "Processing Record 25 of Set 9 : cap malheureux\n",
      "Processing Record 26 of Set 9 : pingliang\n",
      "Processing Record 27 of Set 9 : mongu\n",
      "Processing Record 28 of Set 9 : ipira\n",
      "Processing Record 29 of Set 9 : gus-zheleznyy\n",
      "Processing Record 30 of Set 9 : magadan\n",
      "Processing Record 31 of Set 9 : igarka\n",
      "Processing Record 32 of Set 9 : acapulco\n",
      "Processing Record 33 of Set 9 : miragoane\n",
      "Processing Record 34 of Set 9 : thinadhoo\n",
      "Processing Record 35 of Set 9 : itapipoca\n",
      "Processing Record 36 of Set 9 : blagoyevo\n",
      "Processing Record 37 of Set 9 : yamada\n",
      "Processing Record 38 of Set 9 : itaituba\n",
      "Processing Record 39 of Set 9 : omsukchan\n",
      "Processing Record 40 of Set 9 : yerkoy\n",
      "Processing Record 41 of Set 9 : porto velho\n",
      "Processing Record 42 of Set 9 : miles city\n",
      "City not found. Skipping...\n",
      "Processing Record 43 of Set 9 : omboue\n",
      "Processing Record 44 of Set 9 : changde\n",
      "Processing Record 45 of Set 9 : parintins\n",
      "Processing Record 46 of Set 9 : zlitan\n",
      "Processing Record 47 of Set 9 : aksarka\n",
      "Processing Record 48 of Set 9 : port shepstone\n",
      "Processing Record 49 of Set 9 : puerto quijarro\n",
      "Processing Record 50 of Set 9 : kulhudhuffushi\n",
      "Processing Record 0 of Set 10 : port moresby\n",
      "Processing Record 1 of Set 10 : santa rosa\n",
      "Processing Record 2 of Set 10 : jagodina\n",
      "Processing Record 3 of Set 10 : mokolo\n",
      "Processing Record 4 of Set 10 : nizhniy ingash\n",
      "Processing Record 5 of Set 10 : kieta\n",
      "Processing Record 6 of Set 10 : kathmandu\n",
      "Processing Record 7 of Set 10 : lubango\n",
      "Processing Record 8 of Set 10 : arua\n",
      "Processing Record 9 of Set 10 : taoudenni\n",
      "Processing Record 10 of Set 10 : kutum\n",
      "Processing Record 11 of Set 10 : tura\n",
      "Processing Record 12 of Set 10 : margate\n",
      "Processing Record 13 of Set 10 : geraldton\n",
      "Processing Record 14 of Set 10 : pilar\n",
      "Processing Record 15 of Set 10 : marzuq\n",
      "Processing Record 16 of Set 10 : saskylakh\n",
      "Processing Record 17 of Set 10 : imeni poliny osipenko\n",
      "Processing Record 18 of Set 10 : broken hill\n",
      "Processing Record 19 of Set 10 : strezhevoy\n",
      "Processing Record 20 of Set 10 : sao filipe\n",
      "Processing Record 21 of Set 10 : hofu\n",
      "Processing Record 22 of Set 10 : imbituba\n",
      "Processing Record 23 of Set 10 : cabinda\n",
      "Processing Record 24 of Set 10 : nuuk\n",
      "Processing Record 25 of Set 10 : fulton\n",
      "City not found. Skipping...\n",
      "Processing Record 26 of Set 10 : manavalakurichi\n",
      "Processing Record 27 of Set 10 : dengzhou\n",
      "Processing Record 28 of Set 10 : rafai\n",
      "Processing Record 29 of Set 10 : fershampenuaz\n",
      "Processing Record 30 of Set 10 : los llanos de aridane\n",
      "Processing Record 31 of Set 10 : te anau\n",
      "Processing Record 32 of Set 10 : altamont\n",
      "Processing Record 33 of Set 10 : vuktyl\n",
      "Processing Record 34 of Set 10 : talnakh\n",
      "Processing Record 35 of Set 10 : piney green\n",
      "City not found. Skipping...\n",
      "Processing Record 36 of Set 10 : uchiza\n",
      "Processing Record 37 of Set 10 : san andres\n",
      "Processing Record 38 of Set 10 : quesnel\n",
      "Processing Record 39 of Set 10 : venezuela\n",
      "Processing Record 40 of Set 10 : normandin\n",
      "City not found. Skipping...\n",
      "Processing Record 41 of Set 10 : north branch\n",
      "Processing Record 42 of Set 10 : aseri\n",
      "Processing Record 43 of Set 10 : naze\n",
      "Processing Record 44 of Set 10 : nizhniy kuranakh\n",
      "Processing Record 45 of Set 10 : penzance\n",
      "Processing Record 46 of Set 10 : dzaoudzi\n",
      "Processing Record 47 of Set 10 : storforshei\n",
      "Processing Record 48 of Set 10 : campbell river\n",
      "Processing Record 49 of Set 10 : bambanglipuro\n",
      "Processing Record 50 of Set 10 : dangriga\n",
      "Processing Record 0 of Set 11 : nizip\n",
      "Processing Record 1 of Set 11 : sirnak\n",
      "Processing Record 2 of Set 11 : bac lieu\n",
      "Processing Record 3 of Set 11 : arys\n",
      "Processing Record 4 of Set 11 : straumen\n",
      "City not found. Skipping...\n",
      "Processing Record 5 of Set 11 : sasaram\n",
      "Processing Record 6 of Set 11 : oktyabrskiy\n",
      "Processing Record 7 of Set 11 : zabol\n",
      "Processing Record 8 of Set 11 : port hedland\n",
      "Processing Record 9 of Set 11 : aldan\n",
      "Processing Record 10 of Set 11 : salmas\n",
      "Processing Record 11 of Set 11 : conselheiro pena\n",
      "Processing Record 12 of Set 11 : slavutych\n",
      "Processing Record 13 of Set 11 : gberia fotombu\n",
      "Processing Record 14 of Set 11 : udachnyy\n",
      "Processing Record 15 of Set 11 : tautira\n",
      "Processing Record 16 of Set 11 : banda aceh\n",
      "Processing Record 17 of Set 11 : bossier city\n",
      "Processing Record 18 of Set 11 : morehead\n",
      "Processing Record 19 of Set 11 : vestmanna\n",
      "Processing Record 20 of Set 11 : caceres\n",
      "Processing Record 21 of Set 11 : hope\n",
      "Processing Record 22 of Set 11 : calceta\n",
      "Processing Record 23 of Set 11 : puro\n",
      "Processing Record 24 of Set 11 : seymchan\n",
      "Processing Record 25 of Set 11 : atar\n",
      "Processing Record 26 of Set 11 : mahina\n",
      "Processing Record 27 of Set 11 : nanortalik\n",
      "Processing Record 28 of Set 11 : mayor pablo lagerenza\n",
      "Processing Record 29 of Set 11 : san patricio\n",
      "Processing Record 30 of Set 11 : avon lake\n",
      "Processing Record 31 of Set 11 : paidha\n",
      "Processing Record 32 of Set 11 : shahreza\n",
      "Processing Record 33 of Set 11 : khuzhir\n",
      "Processing Record 34 of Set 11 : tenenkou\n",
      "Processing Record 35 of Set 11 : taywarah\n",
      "City not found. Skipping...\n",
      "Processing Record 36 of Set 11 : kalemie\n",
      "Processing Record 37 of Set 11 : katsuura\n",
      "Processing Record 38 of Set 11 : batticaloa\n",
      "Processing Record 39 of Set 11 : nome\n",
      "Processing Record 40 of Set 11 : acari\n",
      "Processing Record 41 of Set 11 : buritis\n",
      "Processing Record 42 of Set 11 : kibala\n",
      "Processing Record 43 of Set 11 : chicama\n",
      "Processing Record 44 of Set 11 : cap-aux-meules\n",
      "Processing Record 45 of Set 11 : castlegar\n",
      "Processing Record 46 of Set 11 : conde\n",
      "Processing Record 47 of Set 11 : bulawayo\n",
      "Processing Record 48 of Set 11 : zhigansk\n",
      "Processing Record 49 of Set 11 : buraydah\n",
      "Processing Record 50 of Set 11 : denpasar\n",
      "Processing Record 0 of Set 12 : mitsamiouli\n",
      "Processing Record 1 of Set 12 : tecpan\n"
     ]
    },
    {
     "name": "stdout",
     "output_type": "stream",
     "text": [
      "Processing Record 2 of Set 12 : hobyo\n",
      "Processing Record 3 of Set 12 : nambutalai\n",
      "Processing Record 4 of Set 12 : ishigaki\n",
      "Processing Record 5 of Set 12 : killam\n",
      "City not found. Skipping...\n",
      "Processing Record 6 of Set 12 : pokrov\n",
      "Processing Record 7 of Set 12 : bang saphan\n",
      "Processing Record 8 of Set 12 : sao joao da barra\n",
      "Processing Record 9 of Set 12 : shingu\n",
      "Processing Record 10 of Set 12 : kangaatsiaq\n",
      "Processing Record 11 of Set 12 : la grande\n",
      "Processing Record 12 of Set 12 : tombouctou\n",
      "Processing Record 13 of Set 12 : ndola\n",
      "Processing Record 14 of Set 12 : bardiyah\n"
     ]
    }
   ],
   "source": [
    "# First need to create a container to hold the results: \n",
    "city_name_list = []\n",
    "cloudiness_list = []\n",
    "country_list = []\n",
    "date_list = []\n",
    "humidity_list = []\n",
    "lat_list = []\n",
    "lng_list = []\n",
    "max_temp_list = []\n",
    "wind_speed_list = []\n",
    "index_counter = 0\n",
    "set_counter = 1\n",
    "\n",
    "# Set the base url to tell it what to work with \n",
    "base_url = \"http://api.openweathermap.org/data/2.5/weather?\"\n",
    "units = \"imperial\" #select units as found in api documentation \n",
    "query_url = f\"{base_url}appid={api_key}&units={units}&q=\" #search url as dictated by the api documentation using f string\n",
    "\n",
    "\n",
    "# For each city name in cities list, do below things...\n",
    "for index, city in enumerate(cities, start = 1):\n",
    "    try:\n",
    "        response = requests.get(query_url + city).json() #requests.get method to extract the data \n",
    "        city_name_list.append(response[\"name\"])\n",
    "        cloudiness_list.append(response[\"clouds\"][\"all\"])\n",
    "        country_list.append(response[\"sys\"][\"country\"])\n",
    "        date_list.append(response[\"dt\"])\n",
    "        humidity_list.append(response[\"main\"][\"humidity\"])\n",
    "        lat_list.append(response[\"coord\"][\"lat\"])\n",
    "        lng_list.append(response[\"coord\"][\"lon\"])\n",
    "        max_temp_list.append(response['main']['temp_max'])\n",
    "        wind_speed_list.append(response[\"wind\"][\"speed\"])\n",
    "        if index_counter > 49:\n",
    "            index_counter = 0\n",
    "            set_counter = set_counter + 1\n",
    "        else:\n",
    "            index_counter = index_counter + 1\n",
    "            \n",
    "        print(f\"Processing Record {index_counter} of Set {set_counter} : {city}\") \n",
    "  \n",
    "    except(KeyError, IndexError):\n",
    "        print(\"City not found. Skipping...\")\n",
    "print(\"Complete\")"
   ]
  },
  {
   "cell_type": "markdown",
   "metadata": {},
   "source": [
    "### Convert Raw Data to DataFrame\n",
    "* Export the city data into a .csv.\n",
    "* Display the DataFrame"
   ]
  },
  {
   "cell_type": "code",
   "execution_count": 11,
   "metadata": {},
   "outputs": [
    {
     "data": {
      "text/html": [
       "<div>\n",
       "<style scoped>\n",
       "    .dataframe tbody tr th:only-of-type {\n",
       "        vertical-align: middle;\n",
       "    }\n",
       "\n",
       "    .dataframe tbody tr th {\n",
       "        vertical-align: top;\n",
       "    }\n",
       "\n",
       "    .dataframe thead th {\n",
       "        text-align: right;\n",
       "    }\n",
       "</style>\n",
       "<table border=\"1\" class=\"dataframe\">\n",
       "  <thead>\n",
       "    <tr style=\"text-align: right;\">\n",
       "      <th></th>\n",
       "      <th>City</th>\n",
       "      <th>Lat</th>\n",
       "      <th>Lng</th>\n",
       "      <th>Max Temp</th>\n",
       "      <th>Humidity</th>\n",
       "      <th>Cloudiness</th>\n",
       "      <th>Wind Speed</th>\n",
       "      <th>Country</th>\n",
       "      <th>Date</th>\n",
       "    </tr>\n",
       "  </thead>\n",
       "  <tbody>\n",
       "    <tr>\n",
       "      <th>0</th>\n",
       "      <td>Daru</td>\n",
       "      <td>-9.0763</td>\n",
       "      <td>143.2092</td>\n",
       "      <td>79.34</td>\n",
       "      <td>87</td>\n",
       "      <td>100</td>\n",
       "      <td>10.07</td>\n",
       "      <td>PG</td>\n",
       "      <td>1611351610</td>\n",
       "    </tr>\n",
       "    <tr>\n",
       "      <th>1</th>\n",
       "      <td>Punta Arenas</td>\n",
       "      <td>-53.1500</td>\n",
       "      <td>-70.9167</td>\n",
       "      <td>57.20</td>\n",
       "      <td>33</td>\n",
       "      <td>40</td>\n",
       "      <td>21.85</td>\n",
       "      <td>CL</td>\n",
       "      <td>1611351610</td>\n",
       "    </tr>\n",
       "    <tr>\n",
       "      <th>2</th>\n",
       "      <td>Mīzan Teferī</td>\n",
       "      <td>6.9833</td>\n",
       "      <td>35.5833</td>\n",
       "      <td>66.09</td>\n",
       "      <td>58</td>\n",
       "      <td>86</td>\n",
       "      <td>2.73</td>\n",
       "      <td>ET</td>\n",
       "      <td>1611351610</td>\n",
       "    </tr>\n",
       "    <tr>\n",
       "      <th>3</th>\n",
       "      <td>Jamestown</td>\n",
       "      <td>42.0970</td>\n",
       "      <td>-79.2353</td>\n",
       "      <td>23.00</td>\n",
       "      <td>86</td>\n",
       "      <td>90</td>\n",
       "      <td>16.11</td>\n",
       "      <td>US</td>\n",
       "      <td>1611351423</td>\n",
       "    </tr>\n",
       "    <tr>\n",
       "      <th>4</th>\n",
       "      <td>Nikolskoye</td>\n",
       "      <td>59.7035</td>\n",
       "      <td>30.7861</td>\n",
       "      <td>35.60</td>\n",
       "      <td>87</td>\n",
       "      <td>40</td>\n",
       "      <td>15.66</td>\n",
       "      <td>RU</td>\n",
       "      <td>1611351611</td>\n",
       "    </tr>\n",
       "    <tr>\n",
       "      <th>...</th>\n",
       "      <td>...</td>\n",
       "      <td>...</td>\n",
       "      <td>...</td>\n",
       "      <td>...</td>\n",
       "      <td>...</td>\n",
       "      <td>...</td>\n",
       "      <td>...</td>\n",
       "      <td>...</td>\n",
       "      <td>...</td>\n",
       "    </tr>\n",
       "    <tr>\n",
       "      <th>570</th>\n",
       "      <td>Kangaatsiaq</td>\n",
       "      <td>68.3065</td>\n",
       "      <td>-53.4641</td>\n",
       "      <td>13.42</td>\n",
       "      <td>85</td>\n",
       "      <td>48</td>\n",
       "      <td>7.78</td>\n",
       "      <td>GL</td>\n",
       "      <td>1611351750</td>\n",
       "    </tr>\n",
       "    <tr>\n",
       "      <th>571</th>\n",
       "      <td>La Grande</td>\n",
       "      <td>45.3246</td>\n",
       "      <td>-118.0877</td>\n",
       "      <td>37.00</td>\n",
       "      <td>87</td>\n",
       "      <td>99</td>\n",
       "      <td>3.27</td>\n",
       "      <td>US</td>\n",
       "      <td>1611351750</td>\n",
       "    </tr>\n",
       "    <tr>\n",
       "      <th>572</th>\n",
       "      <td>Tombouctou</td>\n",
       "      <td>20.0000</td>\n",
       "      <td>-3.0000</td>\n",
       "      <td>66.74</td>\n",
       "      <td>20</td>\n",
       "      <td>47</td>\n",
       "      <td>9.95</td>\n",
       "      <td>ML</td>\n",
       "      <td>1611351751</td>\n",
       "    </tr>\n",
       "    <tr>\n",
       "      <th>573</th>\n",
       "      <td>Ndola</td>\n",
       "      <td>-12.9587</td>\n",
       "      <td>28.6366</td>\n",
       "      <td>64.20</td>\n",
       "      <td>98</td>\n",
       "      <td>100</td>\n",
       "      <td>3.87</td>\n",
       "      <td>ZM</td>\n",
       "      <td>1611351751</td>\n",
       "    </tr>\n",
       "    <tr>\n",
       "      <th>574</th>\n",
       "      <td>Al Bardīyah</td>\n",
       "      <td>31.7561</td>\n",
       "      <td>25.0865</td>\n",
       "      <td>53.24</td>\n",
       "      <td>66</td>\n",
       "      <td>0</td>\n",
       "      <td>1.66</td>\n",
       "      <td>LY</td>\n",
       "      <td>1611351751</td>\n",
       "    </tr>\n",
       "  </tbody>\n",
       "</table>\n",
       "<p>575 rows × 9 columns</p>\n",
       "</div>"
      ],
      "text/plain": [
       "             City      Lat       Lng  Max Temp  Humidity  Cloudiness  \\\n",
       "0            Daru  -9.0763  143.2092     79.34        87         100   \n",
       "1    Punta Arenas -53.1500  -70.9167     57.20        33          40   \n",
       "2    Mīzan Teferī   6.9833   35.5833     66.09        58          86   \n",
       "3       Jamestown  42.0970  -79.2353     23.00        86          90   \n",
       "4      Nikolskoye  59.7035   30.7861     35.60        87          40   \n",
       "..            ...      ...       ...       ...       ...         ...   \n",
       "570   Kangaatsiaq  68.3065  -53.4641     13.42        85          48   \n",
       "571     La Grande  45.3246 -118.0877     37.00        87          99   \n",
       "572    Tombouctou  20.0000   -3.0000     66.74        20          47   \n",
       "573         Ndola -12.9587   28.6366     64.20        98         100   \n",
       "574   Al Bardīyah  31.7561   25.0865     53.24        66           0   \n",
       "\n",
       "     Wind Speed Country        Date  \n",
       "0         10.07      PG  1611351610  \n",
       "1         21.85      CL  1611351610  \n",
       "2          2.73      ET  1611351610  \n",
       "3         16.11      US  1611351423  \n",
       "4         15.66      RU  1611351611  \n",
       "..          ...     ...         ...  \n",
       "570        7.78      GL  1611351750  \n",
       "571        3.27      US  1611351750  \n",
       "572        9.95      ML  1611351751  \n",
       "573        3.87      ZM  1611351751  \n",
       "574        1.66      LY  1611351751  \n",
       "\n",
       "[575 rows x 9 columns]"
      ]
     },
     "execution_count": 11,
     "metadata": {},
     "output_type": "execute_result"
    }
   ],
   "source": [
    "# To create a dataframe need to create a list of dictionaries or a dictionary of lists \n",
    "weather_dict = pd.DataFrame({ \n",
    "                \"City\" : city_name_list,  #the order these are written is the order they will appear in the dataframe\n",
    "                \"Lat\" : lat_list,\n",
    "                \"Lng\" : lng_list,\n",
    "                \"Max Temp\" : max_temp_list,\n",
    "                \"Humidity\" : humidity_list,\n",
    "                \"Cloudiness\" : cloudiness_list,\n",
    "                \"Wind Speed\" : wind_speed_list,\n",
    "                \"Country\" : country_list,\n",
    "                \"Date\" : date_list,\n",
    "})\n",
    "\n",
    "weather_dict #display the newly created dataframe"
   ]
  },
  {
   "cell_type": "code",
   "execution_count": 12,
   "metadata": {},
   "outputs": [
    {
     "data": {
      "text/plain": [
       "City          575\n",
       "Lat           575\n",
       "Lng           575\n",
       "Max Temp      575\n",
       "Humidity      575\n",
       "Cloudiness    575\n",
       "Wind Speed    575\n",
       "Country       575\n",
       "Date          575\n",
       "dtype: int64"
      ]
     },
     "execution_count": 12,
     "metadata": {},
     "output_type": "execute_result"
    }
   ],
   "source": [
    "weather_dict.count() #testing to make sure each row has an equal amount of data"
   ]
  },
  {
   "cell_type": "code",
   "execution_count": 17,
   "metadata": {},
   "outputs": [],
   "source": [
    "# Exporting the data to a .csv; will be saved into the output_data folder ../ is telling computer to go up one directory \n",
    "weather_dict.to_csv(\"../output_data/cities_data.csv\", index = False) #setting the index to false so i don't have an additional index column"
   ]
  },
  {
   "cell_type": "markdown",
   "metadata": {},
   "source": [
    "## Inspect the data and remove the cities where the humidity > 100%.\n",
    "----\n",
    "Skip this step if there are no cities that have humidity > 100%. "
   ]
  },
  {
   "cell_type": "code",
   "execution_count": 21,
   "metadata": {},
   "outputs": [
    {
     "data": {
      "text/plain": [
       "100"
      ]
     },
     "execution_count": 21,
     "metadata": {},
     "output_type": "execute_result"
    }
   ],
   "source": [
    "humidity = weather_dict[\"Humidity\"].max()\n",
    "humidity #using the .max() method to see what the max value is in the humidity column; it is 100 so we can skip the removal"
   ]
  },
  {
   "cell_type": "code",
   "execution_count": 6,
   "metadata": {},
   "outputs": [
    {
     "data": {
      "text/html": [
       "<div>\n",
       "<style scoped>\n",
       "    .dataframe tbody tr th:only-of-type {\n",
       "        vertical-align: middle;\n",
       "    }\n",
       "\n",
       "    .dataframe tbody tr th {\n",
       "        vertical-align: top;\n",
       "    }\n",
       "\n",
       "    .dataframe thead th {\n",
       "        text-align: right;\n",
       "    }\n",
       "</style>\n",
       "<table border=\"1\" class=\"dataframe\">\n",
       "  <thead>\n",
       "    <tr style=\"text-align: right;\">\n",
       "      <th></th>\n",
       "      <th>Lat</th>\n",
       "      <th>Lng</th>\n",
       "      <th>Max Temp</th>\n",
       "      <th>Humidity</th>\n",
       "      <th>Cloudiness</th>\n",
       "      <th>Wind Speed</th>\n",
       "      <th>Date</th>\n",
       "    </tr>\n",
       "  </thead>\n",
       "  <tbody>\n",
       "    <tr>\n",
       "      <th>count</th>\n",
       "      <td>550.000000</td>\n",
       "      <td>550.000000</td>\n",
       "      <td>550.000000</td>\n",
       "      <td>550.000000</td>\n",
       "      <td>550.000000</td>\n",
       "      <td>550.000000</td>\n",
       "      <td>5.500000e+02</td>\n",
       "    </tr>\n",
       "    <tr>\n",
       "      <th>mean</th>\n",
       "      <td>19.973545</td>\n",
       "      <td>17.124400</td>\n",
       "      <td>58.331400</td>\n",
       "      <td>67.890909</td>\n",
       "      <td>52.141818</td>\n",
       "      <td>8.544800</td>\n",
       "      <td>1.585764e+09</td>\n",
       "    </tr>\n",
       "    <tr>\n",
       "      <th>std</th>\n",
       "      <td>33.284840</td>\n",
       "      <td>91.595451</td>\n",
       "      <td>25.795297</td>\n",
       "      <td>20.864881</td>\n",
       "      <td>35.766469</td>\n",
       "      <td>6.078869</td>\n",
       "      <td>5.539674e+01</td>\n",
       "    </tr>\n",
       "    <tr>\n",
       "      <th>min</th>\n",
       "      <td>-54.800000</td>\n",
       "      <td>-179.170000</td>\n",
       "      <td>-11.340000</td>\n",
       "      <td>9.000000</td>\n",
       "      <td>0.000000</td>\n",
       "      <td>0.160000</td>\n",
       "      <td>1.585764e+09</td>\n",
       "    </tr>\n",
       "    <tr>\n",
       "      <th>25%</th>\n",
       "      <td>-8.077500</td>\n",
       "      <td>-64.627500</td>\n",
       "      <td>42.800000</td>\n",
       "      <td>55.000000</td>\n",
       "      <td>20.000000</td>\n",
       "      <td>4.525000</td>\n",
       "      <td>1.585764e+09</td>\n",
       "    </tr>\n",
       "    <tr>\n",
       "      <th>50%</th>\n",
       "      <td>23.630000</td>\n",
       "      <td>19.635000</td>\n",
       "      <td>64.940000</td>\n",
       "      <td>72.000000</td>\n",
       "      <td>57.000000</td>\n",
       "      <td>7.325000</td>\n",
       "      <td>1.585764e+09</td>\n",
       "    </tr>\n",
       "    <tr>\n",
       "      <th>75%</th>\n",
       "      <td>48.672500</td>\n",
       "      <td>97.350000</td>\n",
       "      <td>78.800000</td>\n",
       "      <td>83.000000</td>\n",
       "      <td>86.750000</td>\n",
       "      <td>11.410000</td>\n",
       "      <td>1.585764e+09</td>\n",
       "    </tr>\n",
       "    <tr>\n",
       "      <th>max</th>\n",
       "      <td>78.220000</td>\n",
       "      <td>179.320000</td>\n",
       "      <td>102.200000</td>\n",
       "      <td>100.000000</td>\n",
       "      <td>100.000000</td>\n",
       "      <td>46.080000</td>\n",
       "      <td>1.585764e+09</td>\n",
       "    </tr>\n",
       "  </tbody>\n",
       "</table>\n",
       "</div>"
      ],
      "text/plain": [
       "              Lat         Lng    Max Temp    Humidity  Cloudiness  Wind Speed  \\\n",
       "count  550.000000  550.000000  550.000000  550.000000  550.000000  550.000000   \n",
       "mean    19.973545   17.124400   58.331400   67.890909   52.141818    8.544800   \n",
       "std     33.284840   91.595451   25.795297   20.864881   35.766469    6.078869   \n",
       "min    -54.800000 -179.170000  -11.340000    9.000000    0.000000    0.160000   \n",
       "25%     -8.077500  -64.627500   42.800000   55.000000   20.000000    4.525000   \n",
       "50%     23.630000   19.635000   64.940000   72.000000   57.000000    7.325000   \n",
       "75%     48.672500   97.350000   78.800000   83.000000   86.750000   11.410000   \n",
       "max     78.220000  179.320000  102.200000  100.000000  100.000000   46.080000   \n",
       "\n",
       "               Date  \n",
       "count  5.500000e+02  \n",
       "mean   1.585764e+09  \n",
       "std    5.539674e+01  \n",
       "min    1.585764e+09  \n",
       "25%    1.585764e+09  \n",
       "50%    1.585764e+09  \n",
       "75%    1.585764e+09  \n",
       "max    1.585764e+09  "
      ]
     },
     "execution_count": 6,
     "metadata": {},
     "output_type": "execute_result"
    }
   ],
   "source": [
    "# Starter code uses a .describe() method which all shows us that the max humidity is 100"
   ]
  },
  {
   "cell_type": "code",
   "execution_count": 17,
   "metadata": {},
   "outputs": [
    {
     "data": {
      "text/plain": [
       "Int64Index([], dtype='int64')"
      ]
     },
     "execution_count": 17,
     "metadata": {},
     "output_type": "execute_result"
    }
   ],
   "source": [
    "#  Get the indices of cities that have humidity over 100%.\n",
    "# we know that nothing over 100 exists so we may skip this part "
   ]
  },
  {
   "cell_type": "code",
   "execution_count": 19,
   "metadata": {},
   "outputs": [
    {
     "data": {
      "text/html": [
       "<div>\n",
       "<style scoped>\n",
       "    .dataframe tbody tr th:only-of-type {\n",
       "        vertical-align: middle;\n",
       "    }\n",
       "\n",
       "    .dataframe tbody tr th {\n",
       "        vertical-align: top;\n",
       "    }\n",
       "\n",
       "    .dataframe thead th {\n",
       "        text-align: right;\n",
       "    }\n",
       "</style>\n",
       "<table border=\"1\" class=\"dataframe\">\n",
       "  <thead>\n",
       "    <tr style=\"text-align: right;\">\n",
       "      <th></th>\n",
       "      <th>City</th>\n",
       "      <th>Lat</th>\n",
       "      <th>Lng</th>\n",
       "      <th>Max Temp</th>\n",
       "      <th>Humidity</th>\n",
       "      <th>Cloudiness</th>\n",
       "      <th>Wind Speed</th>\n",
       "      <th>Country</th>\n",
       "      <th>Date</th>\n",
       "    </tr>\n",
       "  </thead>\n",
       "  <tbody>\n",
       "    <tr>\n",
       "      <td>0</td>\n",
       "      <td>butaritari</td>\n",
       "      <td>3.07</td>\n",
       "      <td>172.79</td>\n",
       "      <td>83.32</td>\n",
       "      <td>74</td>\n",
       "      <td>84</td>\n",
       "      <td>10.42</td>\n",
       "      <td>KI</td>\n",
       "      <td>1593605283</td>\n",
       "    </tr>\n",
       "    <tr>\n",
       "      <td>1</td>\n",
       "      <td>yerbogachen</td>\n",
       "      <td>61.28</td>\n",
       "      <td>108.01</td>\n",
       "      <td>79.52</td>\n",
       "      <td>58</td>\n",
       "      <td>20</td>\n",
       "      <td>7.70</td>\n",
       "      <td>RU</td>\n",
       "      <td>1593605121</td>\n",
       "    </tr>\n",
       "    <tr>\n",
       "      <td>2</td>\n",
       "      <td>cape town</td>\n",
       "      <td>-33.93</td>\n",
       "      <td>18.42</td>\n",
       "      <td>73.00</td>\n",
       "      <td>77</td>\n",
       "      <td>27</td>\n",
       "      <td>4.70</td>\n",
       "      <td>ZA</td>\n",
       "      <td>1593605039</td>\n",
       "    </tr>\n",
       "    <tr>\n",
       "      <td>3</td>\n",
       "      <td>touba</td>\n",
       "      <td>8.28</td>\n",
       "      <td>-7.68</td>\n",
       "      <td>79.97</td>\n",
       "      <td>75</td>\n",
       "      <td>82</td>\n",
       "      <td>3.58</td>\n",
       "      <td>CI</td>\n",
       "      <td>1593605284</td>\n",
       "    </tr>\n",
       "    <tr>\n",
       "      <td>4</td>\n",
       "      <td>jamestown</td>\n",
       "      <td>42.10</td>\n",
       "      <td>-79.24</td>\n",
       "      <td>64.00</td>\n",
       "      <td>88</td>\n",
       "      <td>1</td>\n",
       "      <td>6.93</td>\n",
       "      <td>US</td>\n",
       "      <td>1593605284</td>\n",
       "    </tr>\n",
       "  </tbody>\n",
       "</table>\n",
       "</div>"
      ],
      "text/plain": [
       "          City    Lat     Lng  Max Temp  Humidity  Cloudiness  Wind Speed  \\\n",
       "0   butaritari   3.07  172.79     83.32        74          84       10.42   \n",
       "1  yerbogachen  61.28  108.01     79.52        58          20        7.70   \n",
       "2    cape town -33.93   18.42     73.00        77          27        4.70   \n",
       "3        touba   8.28   -7.68     79.97        75          82        3.58   \n",
       "4    jamestown  42.10  -79.24     64.00        88           1        6.93   \n",
       "\n",
       "  Country        Date  \n",
       "0      KI  1593605283  \n",
       "1      RU  1593605121  \n",
       "2      ZA  1593605039  \n",
       "3      CI  1593605284  \n",
       "4      US  1593605284  "
      ]
     },
     "execution_count": 19,
     "metadata": {},
     "output_type": "execute_result"
    }
   ],
   "source": [
    "# Make a new DataFrame equal to the city data to drop all humidity outliers by index.\n",
    "# Passing \"inplace=False\" will make a copy of the city_data DataFrame, which we call \"clean_city_data\".\n"
   ]
  },
  {
   "cell_type": "markdown",
   "metadata": {},
   "source": [
    "## Plotting the Data\n",
    "* Use proper labeling of the plots using plot titles (including date of analysis) and axes labels.\n",
    "* Save the plotted figures as .pngs."
   ]
  },
  {
   "cell_type": "markdown",
   "metadata": {},
   "source": [
    "## Latitude vs. Temperature Plot"
   ]
  },
  {
   "cell_type": "code",
   "execution_count": 22,
   "metadata": {
    "scrolled": true
   },
   "outputs": [
    {
     "data": {
      "image/png": "[encoded data removed]",
      "text/plain": [
       "<Figure size 432x288 with 1 Axes>"
      ]
     },
     "metadata": {
      "needs_background": "light"
     },
     "output_type": "display_data"
    }
   ],
   "source": [
    "# Create the scatter plot using plt.scatter\n",
    "plt.scatter(weather_dict[\"Lat\"], weather_dict[\"Max Temp\"], facecolor = \"steelblue\", edgecolor = \"black\")\n",
    "\n",
    "# Set title\n",
    "plt.title(\"City Latitude vs. Max Temperature (01/22/21)\")\n",
    "\n",
    "# Set x axis label\n",
    "plt.xlabel(\"Latitude\")\n",
    "\n",
    "# Set y axis label\n",
    "plt.ylabel(\"Max Temperature (F)\")\n",
    "\n",
    "# Set grid line\n",
    "plt.grid(linestyle='-', linewidth=1, alpha=0.5) #recall alpha is the amount of opaqueness \n",
    "\n",
    "# Save the plotted figure as .pngs\n",
    "plt.savefig(\"../Images/City Latitude vs Max Temperature.png\")"
   ]
  },
  {
   "cell_type": "markdown",
   "metadata": {},
   "source": [
    "In the plot above we are analyzing the effect on max temperature with regards to a city's latitude.  One would expect to see the max temperature decrease as latitude increases, which is evidenced by the plot."
   ]
  },
  {
   "cell_type": "markdown",
   "metadata": {},
   "source": [
    "## Latitude vs. Humidity Plot"
   ]
  },
  {
   "cell_type": "code",
   "execution_count": 23,
   "metadata": {},
   "outputs": [
    {
     "data": {
      "image/png": "[encoded data removed]",
      "text/plain": [
       "<Figure size 432x288 with 1 Axes>"
      ]
     },
     "metadata": {
      "needs_background": "light"
     },
     "output_type": "display_data"
    }
   ],
   "source": [
    "# Create the scatter plot using plt.scatter\n",
    "plt.scatter(weather_dict[\"Lat\"], weather_dict[\"Humidity\"], facecolor = \"steelblue\", edgecolor = \"black\")\n",
    "\n",
    "# Set title\n",
    "plt.title(\"City Latitude vs. Humidity (01/22/21)\")\n",
    "\n",
    "# Set x axis label\n",
    "plt.xlabel(\"Latitude\")\n",
    "\n",
    "# Set y axis label\n",
    "plt.ylabel(\"Humidity (%)\")\n",
    "\n",
    "# Set grid line\n",
    "plt.grid(linestyle='-', linewidth=0.5, alpha=0.5)\n",
    "\n",
    "# Save the plotted figure as .pngs\n",
    "plt.savefig(\"../Images/City Latitude vs Humidity.png\")"
   ]
  },
  {
   "cell_type": "markdown",
   "metadata": {},
   "source": [
    "In the plot above we are analyzing the effect on the percentage of humidity with regards to a city's latitude.  One would expect to see humidity decrease as latitude increases, however there is no strong evidence in the plot."
   ]
  },
  {
   "cell_type": "markdown",
   "metadata": {},
   "source": [
    "## Latitude vs. Cloudiness Plot"
   ]
  },
  {
   "cell_type": "code",
   "execution_count": 28,
   "metadata": {},
   "outputs": [
    {
     "data": {
      "image/png": "[encoded data removed]",
      "text/plain": [
       "<Figure size 432x288 with 1 Axes>"
      ]
     },
     "metadata": {
      "needs_background": "light"
     },
     "output_type": "display_data"
    }
   ],
   "source": [
    "# Create the scatter plot using plt.scatter\n",
    "plt.scatter(weather_dict[\"Lat\"], weather_dict[\"Cloudiness\"], facecolor = \"steelblue\", edgecolor = \"black\")\n",
    "\n",
    "# Set title\n",
    "plt.title(\"City Latitude vs. Cloudiness (01/22/21)\")\n",
    "\n",
    "# Set x axis label\n",
    "plt.xlabel(\"Latitude\")\n",
    "\n",
    "# Set y axis label\n",
    "plt.ylabel(\"Cloudiness\")\n",
    "plt.ylim(-10,110) #setting this to get a better picture of the data \n",
    "\n",
    "# Set grid lines\n",
    "plt.grid(linestyle='-', linewidth=0.5, alpha=0.5)\n",
    "\n",
    "# Save the plotted figure as .pngs\n",
    "plt.savefig(\"../Images/City Latitude vs Cloudiness.png\")"
   ]
  },
  {
   "cell_type": "markdown",
   "metadata": {},
   "source": [
    "In the plot above we are analyzing the trend between cloudiness and a city's latitude.  One would expect to see more clouds as latitude increases, however there is no strong evidence in the plot."
   ]
  },
  {
   "cell_type": "markdown",
   "metadata": {},
   "source": [
    "## Latitude vs. Wind Speed Plot"
   ]
  },
  {
   "cell_type": "code",
   "execution_count": 29,
   "metadata": {},
   "outputs": [
    {
     "data": {
      "image/png": "[encoded data removed]",
      "text/plain": [
       "<Figure size 432x288 with 1 Axes>"
      ]
     },
     "metadata": {
      "needs_background": "light"
     },
     "output_type": "display_data"
    }
   ],
   "source": [
    "# Create the scatter plot using plt.scatter\n",
    "plt.scatter(weather_dict[\"Lat\"], weather_dict[\"Wind Speed\"], facecolor = \"steelblue\", edgecolor = \"black\")\n",
    "\n",
    "# Set title\n",
    "plt.title(\"City Latitude vs. Wind Speed (01/22/21)\")\n",
    "\n",
    "# Set x axis label\n",
    "plt.xlabel(\"Latitude\")\n",
    "\n",
    "# Set y axis label\n",
    "plt.ylabel(\"Wind Speed\")\n",
    "\n",
    "# Set grid line\n",
    "plt.grid(linestyle='-', linewidth=0.5, alpha = 0.5)\n",
    "\n",
    "# Save the plotted figure as .pngs\n",
    "plt.savefig(\"../Images/City Latitude vs Wind Speed.png\")"
   ]
  },
  {
   "cell_type": "markdown",
   "metadata": {},
   "source": [
    "In the plot above we are analyzing the trend between wind speed and a city's latitude.  One would expect to see windier conditions as latitude increases."
   ]
  },
  {
   "cell_type": "markdown",
   "metadata": {},
   "source": [
    "## Linear Regression"
   ]
  },
  {
   "cell_type": "code",
   "execution_count": 61,
   "metadata": {},
   "outputs": [],
   "source": [
    "# Create Northern and Southern Hemisphere DataFrames\n",
    "northern_hemisphere = weather_dict.loc[weather_dict[\"Lat\"] >= 0] #northern hemisphere is where latitude is >= 0\n",
    "southern_hemisphere = weather_dict.loc[weather_dict[\"Lat\"] < 0] #southern hemisphere is where latitude is <0"
   ]
  },
  {
   "cell_type": "code",
   "execution_count": 65,
   "metadata": {},
   "outputs": [],
   "source": [
    "# Define a function for creating linear regression and scatter plot\n",
    "def linear_regression(x,y):\n",
    "    print(f\"The r-squared is : {round(st.pearsonr(x, y)[0],2)}\")\n",
    "    (slope, intercept, rvalue, pvalue, stderr) = linregress(x, y)\n",
    "    regression_values = x * slope + intercept\n",
    "    line_eq = \"y = \" + str(round(slope,2)) + \"x + \" + str(round(intercept,2))\n",
    "    plt.scatter(x, y)\n",
    "    plt.plot(x,regression_values,\"r-\")\n",
    "    return line_eq\n",
    "\n",
    "# Define a fuction for annotating\n",
    "def annotate(line_eq, a, b):\n",
    "    plt.annotate(line_eq,(a,b),fontsize=15,color=\"red\")\n",
    "    "
   ]
  },
  {
   "cell_type": "code",
   "execution_count": 66,
   "metadata": {},
   "outputs": [
    {
     "name": "stdout",
     "output_type": "stream",
     "text": [
      "The r-squared is : -0.84\n",
      "The r-squared is : -0.84\n"
     ]
    },
    {
     "ename": "ValueError",
     "evalue": "too many values to unpack (expected 5)",
     "output_type": "error",
     "traceback": [
      "\u001b[1;31m---------------------------------------------------------------------------\u001b[0m",
      "\u001b[1;31mValueError\u001b[0m                                Traceback (most recent call last)",
      "\u001b[1;32m<ipython-input-66-66a6d72a5fef>\u001b[0m in \u001b[0;36m<module>\u001b[1;34m\u001b[0m\n\u001b[0;32m      1\u001b[0m \u001b[1;31m# Call on function 1\u001b[0m\u001b[1;33m\u001b[0m\u001b[1;33m\u001b[0m\u001b[1;33m\u001b[0m\u001b[0m\n\u001b[0;32m      2\u001b[0m \u001b[1;33m\u001b[0m\u001b[0m\n\u001b[1;32m----> 3\u001b[1;33m \u001b[0mequation\u001b[0m \u001b[1;33m=\u001b[0m \u001b[0mlinear_regression\u001b[0m\u001b[1;33m(\u001b[0m\u001b[0mnorthern_hemisphere\u001b[0m\u001b[1;33m[\u001b[0m\u001b[1;34m\"Lat\"\u001b[0m\u001b[1;33m]\u001b[0m\u001b[1;33m,\u001b[0m \u001b[0mnorthern_hemisphere\u001b[0m\u001b[1;33m[\u001b[0m\u001b[1;34m\"Max Temp\"\u001b[0m\u001b[1;33m]\u001b[0m\u001b[1;33m)\u001b[0m\u001b[1;33m\u001b[0m\u001b[1;33m\u001b[0m\u001b[0m\n\u001b[0m\u001b[0;32m      4\u001b[0m \u001b[1;33m\u001b[0m\u001b[0m\n\u001b[0;32m      5\u001b[0m \u001b[1;31m# Call on function 2\u001b[0m\u001b[1;33m\u001b[0m\u001b[1;33m\u001b[0m\u001b[1;33m\u001b[0m\u001b[0m\n",
      "\u001b[1;32m<ipython-input-65-a7ef7b0583a1>\u001b[0m in \u001b[0;36mlinear_regression\u001b[1;34m(x, y)\u001b[0m\n\u001b[0;32m      2\u001b[0m \u001b[1;32mdef\u001b[0m \u001b[0mlinear_regression\u001b[0m\u001b[1;33m(\u001b[0m\u001b[0mx\u001b[0m\u001b[1;33m,\u001b[0m\u001b[0my\u001b[0m\u001b[1;33m)\u001b[0m\u001b[1;33m:\u001b[0m\u001b[1;33m\u001b[0m\u001b[1;33m\u001b[0m\u001b[0m\n\u001b[0;32m      3\u001b[0m     \u001b[0mprint\u001b[0m\u001b[1;33m(\u001b[0m\u001b[1;34mf\"The r-squared is : {round(st.pearsonr(x, y)[0],2)}\"\u001b[0m\u001b[1;33m)\u001b[0m\u001b[1;33m\u001b[0m\u001b[1;33m\u001b[0m\u001b[0m\n\u001b[1;32m----> 4\u001b[1;33m     \u001b[1;33m(\u001b[0m\u001b[0mslope\u001b[0m\u001b[1;33m,\u001b[0m \u001b[0mintercept\u001b[0m\u001b[1;33m,\u001b[0m \u001b[0mrvalue\u001b[0m\u001b[1;33m,\u001b[0m \u001b[0mpvalue\u001b[0m\u001b[1;33m,\u001b[0m \u001b[0mstderr\u001b[0m\u001b[1;33m)\u001b[0m \u001b[1;33m=\u001b[0m \u001b[0mlinregress\u001b[0m\u001b[1;33m(\u001b[0m\u001b[0mx\u001b[0m\u001b[1;33m,\u001b[0m \u001b[0my\u001b[0m\u001b[1;33m)\u001b[0m\u001b[1;33m\u001b[0m\u001b[1;33m\u001b[0m\u001b[0m\n\u001b[0m\u001b[0;32m      5\u001b[0m     \u001b[0mregression_values\u001b[0m \u001b[1;33m=\u001b[0m \u001b[0mx\u001b[0m \u001b[1;33m*\u001b[0m \u001b[0mslope\u001b[0m \u001b[1;33m+\u001b[0m \u001b[0mintercept\u001b[0m\u001b[1;33m\u001b[0m\u001b[1;33m\u001b[0m\u001b[0m\n\u001b[0;32m      6\u001b[0m     \u001b[0mline_eq\u001b[0m \u001b[1;33m=\u001b[0m \u001b[1;34m\"y = \"\u001b[0m \u001b[1;33m+\u001b[0m \u001b[0mstr\u001b[0m\u001b[1;33m(\u001b[0m\u001b[0mround\u001b[0m\u001b[1;33m(\u001b[0m\u001b[0mslope\u001b[0m\u001b[1;33m,\u001b[0m\u001b[1;36m2\u001b[0m\u001b[1;33m)\u001b[0m\u001b[1;33m)\u001b[0m \u001b[1;33m+\u001b[0m \u001b[1;34m\"x + \"\u001b[0m \u001b[1;33m+\u001b[0m \u001b[0mstr\u001b[0m\u001b[1;33m(\u001b[0m\u001b[0mround\u001b[0m\u001b[1;33m(\u001b[0m\u001b[0mintercept\u001b[0m\u001b[1;33m,\u001b[0m\u001b[1;36m2\u001b[0m\u001b[1;33m)\u001b[0m\u001b[1;33m)\u001b[0m\u001b[1;33m\u001b[0m\u001b[1;33m\u001b[0m\u001b[0m\n",
      "\u001b[1;31mValueError\u001b[0m: too many values to unpack (expected 5)"
     ]
    },
    {
     "data": {
      "image/png": "[encoded data removed]",
      "text/plain": [
       "<Figure size 432x288 with 1 Axes>"
      ]
     },
     "metadata": {
      "needs_background": "light"
     },
     "output_type": "display_data"
    }
   ],
   "source": [
    "# Call on function 1\n",
    "\n",
    "equation = linear_regression(northern_hemisphere[\"Lat\"], northern_hemisphere[\"Max Temp\"])\n",
    "\n",
    "# Call on function 2\n",
    "annotate(equation, 0, 0)\n",
    "\n",
    "# Set a title\n",
    "plt.title(\"Northern Hemisphere - Max Temp vs. Latitude Linear Regression\")\n",
    "\n",
    "# Set xlabel\n",
    "plt.xlabel(\"Latitude\")\n",
    "\n",
    "# Set ylabel\n",
    "plt.ylabel(\"Max Temp (F)\")\n",
    "\n",
    "# Save the figure\n",
    "plt.savefig(\"../Images/Northern Hemisphere - Max Temp vs. Latitude Linear Regression.png\")"
   ]
  },
  {
   "cell_type": "markdown",
   "metadata": {},
   "source": [
    "####  Northern Hemisphere - Max Temp vs. Latitude Linear Regression"
   ]
  },
  {
   "cell_type": "markdown",
   "metadata": {},
   "source": [
    "####  Southern Hemisphere - Max Temp vs. Latitude Linear Regression"
   ]
  },
  {
   "cell_type": "code",
   "execution_count": 67,
   "metadata": {},
   "outputs": [
    {
     "name": "stdout",
     "output_type": "stream",
     "text": [
      "The r-squared is : 0.3\n",
      "The r-squared is : 0.3\n"
     ]
    },
    {
     "ename": "ValueError",
     "evalue": "too many values to unpack (expected 5)",
     "output_type": "error",
     "traceback": [
      "\u001b[1;31m---------------------------------------------------------------------------\u001b[0m",
      "\u001b[1;31mValueError\u001b[0m                                Traceback (most recent call last)",
      "\u001b[1;32m<ipython-input-67-b7d9f1f6062a>\u001b[0m in \u001b[0;36m<module>\u001b[1;34m\u001b[0m\n\u001b[0;32m      1\u001b[0m \u001b[1;31m# Call on function 1\u001b[0m\u001b[1;33m\u001b[0m\u001b[1;33m\u001b[0m\u001b[1;33m\u001b[0m\u001b[0m\n\u001b[1;32m----> 2\u001b[1;33m \u001b[0mequation\u001b[0m \u001b[1;33m=\u001b[0m \u001b[0mlinear_regression\u001b[0m\u001b[1;33m(\u001b[0m\u001b[0msouthern_hemisphere\u001b[0m\u001b[1;33m[\u001b[0m\u001b[1;34m\"Lat\"\u001b[0m\u001b[1;33m]\u001b[0m\u001b[1;33m,\u001b[0m\u001b[0msouthern_hemisphere\u001b[0m\u001b[1;33m[\u001b[0m\u001b[1;34m\"Max Temp\"\u001b[0m\u001b[1;33m]\u001b[0m\u001b[1;33m)\u001b[0m\u001b[1;33m\u001b[0m\u001b[1;33m\u001b[0m\u001b[0m\n\u001b[0m\u001b[0;32m      3\u001b[0m \u001b[1;33m\u001b[0m\u001b[0m\n\u001b[0;32m      4\u001b[0m \u001b[1;31m# Call on function 2\u001b[0m\u001b[1;33m\u001b[0m\u001b[1;33m\u001b[0m\u001b[1;33m\u001b[0m\u001b[0m\n\u001b[0;32m      5\u001b[0m \u001b[0mannotate\u001b[0m\u001b[1;33m(\u001b[0m\u001b[0mequation\u001b[0m\u001b[1;33m,\u001b[0m \u001b[1;33m-\u001b[0m\u001b[1;36m30\u001b[0m\u001b[1;33m,\u001b[0m \u001b[1;36m50\u001b[0m\u001b[1;33m)\u001b[0m\u001b[1;33m\u001b[0m\u001b[1;33m\u001b[0m\u001b[0m\n",
      "\u001b[1;32m<ipython-input-65-a7ef7b0583a1>\u001b[0m in \u001b[0;36mlinear_regression\u001b[1;34m(x, y)\u001b[0m\n\u001b[0;32m      2\u001b[0m \u001b[1;32mdef\u001b[0m \u001b[0mlinear_regression\u001b[0m\u001b[1;33m(\u001b[0m\u001b[0mx\u001b[0m\u001b[1;33m,\u001b[0m\u001b[0my\u001b[0m\u001b[1;33m)\u001b[0m\u001b[1;33m:\u001b[0m\u001b[1;33m\u001b[0m\u001b[1;33m\u001b[0m\u001b[0m\n\u001b[0;32m      3\u001b[0m     \u001b[0mprint\u001b[0m\u001b[1;33m(\u001b[0m\u001b[1;34mf\"The r-squared is : {round(st.pearsonr(x, y)[0],2)}\"\u001b[0m\u001b[1;33m)\u001b[0m\u001b[1;33m\u001b[0m\u001b[1;33m\u001b[0m\u001b[0m\n\u001b[1;32m----> 4\u001b[1;33m     \u001b[1;33m(\u001b[0m\u001b[0mslope\u001b[0m\u001b[1;33m,\u001b[0m \u001b[0mintercept\u001b[0m\u001b[1;33m,\u001b[0m \u001b[0mrvalue\u001b[0m\u001b[1;33m,\u001b[0m \u001b[0mpvalue\u001b[0m\u001b[1;33m,\u001b[0m \u001b[0mstderr\u001b[0m\u001b[1;33m)\u001b[0m \u001b[1;33m=\u001b[0m \u001b[0mlinregress\u001b[0m\u001b[1;33m(\u001b[0m\u001b[0mx\u001b[0m\u001b[1;33m,\u001b[0m \u001b[0my\u001b[0m\u001b[1;33m)\u001b[0m\u001b[1;33m\u001b[0m\u001b[1;33m\u001b[0m\u001b[0m\n\u001b[0m\u001b[0;32m      5\u001b[0m     \u001b[0mregression_values\u001b[0m \u001b[1;33m=\u001b[0m \u001b[0mx\u001b[0m \u001b[1;33m*\u001b[0m \u001b[0mslope\u001b[0m \u001b[1;33m+\u001b[0m \u001b[0mintercept\u001b[0m\u001b[1;33m\u001b[0m\u001b[1;33m\u001b[0m\u001b[0m\n\u001b[0;32m      6\u001b[0m     \u001b[0mline_eq\u001b[0m \u001b[1;33m=\u001b[0m \u001b[1;34m\"y = \"\u001b[0m \u001b[1;33m+\u001b[0m \u001b[0mstr\u001b[0m\u001b[1;33m(\u001b[0m\u001b[0mround\u001b[0m\u001b[1;33m(\u001b[0m\u001b[0mslope\u001b[0m\u001b[1;33m,\u001b[0m\u001b[1;36m2\u001b[0m\u001b[1;33m)\u001b[0m\u001b[1;33m)\u001b[0m \u001b[1;33m+\u001b[0m \u001b[1;34m\"x + \"\u001b[0m \u001b[1;33m+\u001b[0m \u001b[0mstr\u001b[0m\u001b[1;33m(\u001b[0m\u001b[0mround\u001b[0m\u001b[1;33m(\u001b[0m\u001b[0mintercept\u001b[0m\u001b[1;33m,\u001b[0m\u001b[1;36m2\u001b[0m\u001b[1;33m)\u001b[0m\u001b[1;33m)\u001b[0m\u001b[1;33m\u001b[0m\u001b[1;33m\u001b[0m\u001b[0m\n",
      "\u001b[1;31mValueError\u001b[0m: too many values to unpack (expected 5)"
     ]
    },
    {
     "data": {
      "image/png": "[encoded data removed]",
      "text/plain": [
       "<Figure size 432x288 with 1 Axes>"
      ]
     },
     "metadata": {
      "needs_background": "light"
     },
     "output_type": "display_data"
    }
   ],
   "source": [
    "# Call on function 1\n",
    "equation = linear_regression(southern_hemisphere[\"Lat\"],southern_hemisphere[\"Max Temp\"])\n",
    "\n",
    "# Call on function 2\n",
    "annotate(equation, -30, 50)\n",
    "\n",
    "# Set a title\n",
    "plt.title(\"Southern Hemisphere - Max Temp vs. Latitude Linear Regression\")\n",
    "\n",
    "# Set xlabel\n",
    "plt.xlabel(\"Latitude\")\n",
    "\n",
    "# Set ylabel\n",
    "plt.ylabel(\"Max Temp (F)\")\n",
    "\n",
    "# Save the figure\n",
    "plt.savefig(\"../Images/Southern Hemisphere - Max Temp vs. Latitude Linear Regression.png\")"
   ]
  },
  {
   "cell_type": "markdown",
   "metadata": {},
   "source": [
    "####  Northern Hemisphere - Humidity (%) vs. Latitude Linear Regression"
   ]
  },
  {
   "cell_type": "code",
   "execution_count": 68,
   "metadata": {},
   "outputs": [
    {
     "name": "stdout",
     "output_type": "stream",
     "text": [
      "The r-squared is : 0.41\n",
      "The r-squared is : 0.41\n"
     ]
    },
    {
     "ename": "ValueError",
     "evalue": "too many values to unpack (expected 5)",
     "output_type": "error",
     "traceback": [
      "\u001b[1;31m---------------------------------------------------------------------------\u001b[0m",
      "\u001b[1;31mValueError\u001b[0m                                Traceback (most recent call last)",
      "\u001b[1;32m<ipython-input-68-3fbf98b0192e>\u001b[0m in \u001b[0;36m<module>\u001b[1;34m\u001b[0m\n\u001b[0;32m      1\u001b[0m \u001b[1;31m# Call on function 1\u001b[0m\u001b[1;33m\u001b[0m\u001b[1;33m\u001b[0m\u001b[1;33m\u001b[0m\u001b[0m\n\u001b[1;32m----> 2\u001b[1;33m \u001b[0mequation\u001b[0m \u001b[1;33m=\u001b[0m \u001b[0mlinear_regression\u001b[0m\u001b[1;33m(\u001b[0m\u001b[0mnorthern_hemisphere\u001b[0m\u001b[1;33m[\u001b[0m\u001b[1;34m\"Lat\"\u001b[0m\u001b[1;33m]\u001b[0m\u001b[1;33m,\u001b[0m \u001b[0mnorthern_hemisphere\u001b[0m\u001b[1;33m[\u001b[0m\u001b[1;34m\"Humidity\"\u001b[0m\u001b[1;33m]\u001b[0m\u001b[1;33m)\u001b[0m\u001b[1;33m\u001b[0m\u001b[1;33m\u001b[0m\u001b[0m\n\u001b[0m\u001b[0;32m      3\u001b[0m \u001b[1;33m\u001b[0m\u001b[0m\n\u001b[0;32m      4\u001b[0m \u001b[1;31m# Call on function #2\u001b[0m\u001b[1;33m\u001b[0m\u001b[1;33m\u001b[0m\u001b[1;33m\u001b[0m\u001b[0m\n\u001b[0;32m      5\u001b[0m \u001b[0mannotate\u001b[0m\u001b[1;33m(\u001b[0m\u001b[0mequation\u001b[0m\u001b[1;33m,\u001b[0m \u001b[1;36m40\u001b[0m\u001b[1;33m,\u001b[0m \u001b[1;36m15\u001b[0m\u001b[1;33m)\u001b[0m\u001b[1;33m\u001b[0m\u001b[1;33m\u001b[0m\u001b[0m\n",
      "\u001b[1;32m<ipython-input-65-a7ef7b0583a1>\u001b[0m in \u001b[0;36mlinear_regression\u001b[1;34m(x, y)\u001b[0m\n\u001b[0;32m      2\u001b[0m \u001b[1;32mdef\u001b[0m \u001b[0mlinear_regression\u001b[0m\u001b[1;33m(\u001b[0m\u001b[0mx\u001b[0m\u001b[1;33m,\u001b[0m\u001b[0my\u001b[0m\u001b[1;33m)\u001b[0m\u001b[1;33m:\u001b[0m\u001b[1;33m\u001b[0m\u001b[1;33m\u001b[0m\u001b[0m\n\u001b[0;32m      3\u001b[0m     \u001b[0mprint\u001b[0m\u001b[1;33m(\u001b[0m\u001b[1;34mf\"The r-squared is : {round(st.pearsonr(x, y)[0],2)}\"\u001b[0m\u001b[1;33m)\u001b[0m\u001b[1;33m\u001b[0m\u001b[1;33m\u001b[0m\u001b[0m\n\u001b[1;32m----> 4\u001b[1;33m     \u001b[1;33m(\u001b[0m\u001b[0mslope\u001b[0m\u001b[1;33m,\u001b[0m \u001b[0mintercept\u001b[0m\u001b[1;33m,\u001b[0m \u001b[0mrvalue\u001b[0m\u001b[1;33m,\u001b[0m \u001b[0mpvalue\u001b[0m\u001b[1;33m,\u001b[0m \u001b[0mstderr\u001b[0m\u001b[1;33m)\u001b[0m \u001b[1;33m=\u001b[0m \u001b[0mlinregress\u001b[0m\u001b[1;33m(\u001b[0m\u001b[0mx\u001b[0m\u001b[1;33m,\u001b[0m \u001b[0my\u001b[0m\u001b[1;33m)\u001b[0m\u001b[1;33m\u001b[0m\u001b[1;33m\u001b[0m\u001b[0m\n\u001b[0m\u001b[0;32m      5\u001b[0m     \u001b[0mregression_values\u001b[0m \u001b[1;33m=\u001b[0m \u001b[0mx\u001b[0m \u001b[1;33m*\u001b[0m \u001b[0mslope\u001b[0m \u001b[1;33m+\u001b[0m \u001b[0mintercept\u001b[0m\u001b[1;33m\u001b[0m\u001b[1;33m\u001b[0m\u001b[0m\n\u001b[0;32m      6\u001b[0m     \u001b[0mline_eq\u001b[0m \u001b[1;33m=\u001b[0m \u001b[1;34m\"y = \"\u001b[0m \u001b[1;33m+\u001b[0m \u001b[0mstr\u001b[0m\u001b[1;33m(\u001b[0m\u001b[0mround\u001b[0m\u001b[1;33m(\u001b[0m\u001b[0mslope\u001b[0m\u001b[1;33m,\u001b[0m\u001b[1;36m2\u001b[0m\u001b[1;33m)\u001b[0m\u001b[1;33m)\u001b[0m \u001b[1;33m+\u001b[0m \u001b[1;34m\"x + \"\u001b[0m \u001b[1;33m+\u001b[0m \u001b[0mstr\u001b[0m\u001b[1;33m(\u001b[0m\u001b[0mround\u001b[0m\u001b[1;33m(\u001b[0m\u001b[0mintercept\u001b[0m\u001b[1;33m,\u001b[0m\u001b[1;36m2\u001b[0m\u001b[1;33m)\u001b[0m\u001b[1;33m)\u001b[0m\u001b[1;33m\u001b[0m\u001b[1;33m\u001b[0m\u001b[0m\n",
      "\u001b[1;31mValueError\u001b[0m: too many values to unpack (expected 5)"
     ]
    },
    {
     "data": {
      "image/png": "[encoded data removed]",
      "text/plain": [
       "<Figure size 432x288 with 1 Axes>"
      ]
     },
     "metadata": {
      "needs_background": "light"
     },
     "output_type": "display_data"
    }
   ],
   "source": [
    "# Call on function 1\n",
    "equation = linear_regression(northern_hemisphere[\"Lat\"], northern_hemisphere[\"Humidity\"])\n",
    "\n",
    "# Call on function #2\n",
    "annotate(equation, 40, 15)\n",
    "\n",
    "# Set a title\n",
    "plt.title(\"Northern Hemisphere - Humidity (%) vs. Latitude Linear Regression\")\n",
    "\n",
    "# Set xlabel\n",
    "plt.xlabel(\"Latitude\")\n",
    "\n",
    "# Set ylabel\n",
    "plt.ylabel(\"Humidity (%)\")\n",
    "\n",
    "# Save the figure\n",
    "plt.savefig(\"../Images/Northern Hemisphere - Humidity (%) vs. Latitude Linear Regression.png\")"
   ]
  },
  {
   "cell_type": "markdown",
   "metadata": {},
   "source": [
    "####  Southern Hemisphere - Humidity (%) vs. Latitude Linear Regression"
   ]
  },
  {
   "cell_type": "code",
   "execution_count": 69,
   "metadata": {},
   "outputs": [
    {
     "name": "stdout",
     "output_type": "stream",
     "text": [
      "The r-squared is : 0.4\n",
      "The r-squared is : 0.4\n"
     ]
    },
    {
     "ename": "ValueError",
     "evalue": "too many values to unpack (expected 5)",
     "output_type": "error",
     "traceback": [
      "\u001b[1;31m---------------------------------------------------------------------------\u001b[0m",
      "\u001b[1;31mValueError\u001b[0m                                Traceback (most recent call last)",
      "\u001b[1;32m<ipython-input-69-e730b614f6ff>\u001b[0m in \u001b[0;36m<module>\u001b[1;34m\u001b[0m\n\u001b[0;32m      1\u001b[0m \u001b[1;31m# Call on function 1\u001b[0m\u001b[1;33m\u001b[0m\u001b[1;33m\u001b[0m\u001b[1;33m\u001b[0m\u001b[0m\n\u001b[1;32m----> 2\u001b[1;33m \u001b[0mequation\u001b[0m \u001b[1;33m=\u001b[0m \u001b[0mlinear_regression\u001b[0m\u001b[1;33m(\u001b[0m\u001b[0msouthern_hemisphere\u001b[0m\u001b[1;33m[\u001b[0m\u001b[1;34m\"Lat\"\u001b[0m\u001b[1;33m]\u001b[0m\u001b[1;33m,\u001b[0m \u001b[0msouthern_hemisphere\u001b[0m\u001b[1;33m[\u001b[0m\u001b[1;34m\"Humidity\"\u001b[0m\u001b[1;33m]\u001b[0m\u001b[1;33m)\u001b[0m\u001b[1;33m\u001b[0m\u001b[1;33m\u001b[0m\u001b[0m\n\u001b[0m\u001b[0;32m      3\u001b[0m \u001b[1;33m\u001b[0m\u001b[0m\n\u001b[0;32m      4\u001b[0m \u001b[1;31m# Call on function 2\u001b[0m\u001b[1;33m\u001b[0m\u001b[1;33m\u001b[0m\u001b[1;33m\u001b[0m\u001b[0m\n\u001b[0;32m      5\u001b[0m \u001b[0mannotate\u001b[0m\u001b[1;33m(\u001b[0m\u001b[0mequation\u001b[0m\u001b[1;33m,\u001b[0m \u001b[1;33m-\u001b[0m\u001b[1;36m40\u001b[0m\u001b[1;33m,\u001b[0m \u001b[1;36m50\u001b[0m\u001b[1;33m)\u001b[0m\u001b[1;33m\u001b[0m\u001b[1;33m\u001b[0m\u001b[0m\n",
      "\u001b[1;32m<ipython-input-65-a7ef7b0583a1>\u001b[0m in \u001b[0;36mlinear_regression\u001b[1;34m(x, y)\u001b[0m\n\u001b[0;32m      2\u001b[0m \u001b[1;32mdef\u001b[0m \u001b[0mlinear_regression\u001b[0m\u001b[1;33m(\u001b[0m\u001b[0mx\u001b[0m\u001b[1;33m,\u001b[0m\u001b[0my\u001b[0m\u001b[1;33m)\u001b[0m\u001b[1;33m:\u001b[0m\u001b[1;33m\u001b[0m\u001b[1;33m\u001b[0m\u001b[0m\n\u001b[0;32m      3\u001b[0m     \u001b[0mprint\u001b[0m\u001b[1;33m(\u001b[0m\u001b[1;34mf\"The r-squared is : {round(st.pearsonr(x, y)[0],2)}\"\u001b[0m\u001b[1;33m)\u001b[0m\u001b[1;33m\u001b[0m\u001b[1;33m\u001b[0m\u001b[0m\n\u001b[1;32m----> 4\u001b[1;33m     \u001b[1;33m(\u001b[0m\u001b[0mslope\u001b[0m\u001b[1;33m,\u001b[0m \u001b[0mintercept\u001b[0m\u001b[1;33m,\u001b[0m \u001b[0mrvalue\u001b[0m\u001b[1;33m,\u001b[0m \u001b[0mpvalue\u001b[0m\u001b[1;33m,\u001b[0m \u001b[0mstderr\u001b[0m\u001b[1;33m)\u001b[0m \u001b[1;33m=\u001b[0m \u001b[0mlinregress\u001b[0m\u001b[1;33m(\u001b[0m\u001b[0mx\u001b[0m\u001b[1;33m,\u001b[0m \u001b[0my\u001b[0m\u001b[1;33m)\u001b[0m\u001b[1;33m\u001b[0m\u001b[1;33m\u001b[0m\u001b[0m\n\u001b[0m\u001b[0;32m      5\u001b[0m     \u001b[0mregression_values\u001b[0m \u001b[1;33m=\u001b[0m \u001b[0mx\u001b[0m \u001b[1;33m*\u001b[0m \u001b[0mslope\u001b[0m \u001b[1;33m+\u001b[0m \u001b[0mintercept\u001b[0m\u001b[1;33m\u001b[0m\u001b[1;33m\u001b[0m\u001b[0m\n\u001b[0;32m      6\u001b[0m     \u001b[0mline_eq\u001b[0m \u001b[1;33m=\u001b[0m \u001b[1;34m\"y = \"\u001b[0m \u001b[1;33m+\u001b[0m \u001b[0mstr\u001b[0m\u001b[1;33m(\u001b[0m\u001b[0mround\u001b[0m\u001b[1;33m(\u001b[0m\u001b[0mslope\u001b[0m\u001b[1;33m,\u001b[0m\u001b[1;36m2\u001b[0m\u001b[1;33m)\u001b[0m\u001b[1;33m)\u001b[0m \u001b[1;33m+\u001b[0m \u001b[1;34m\"x + \"\u001b[0m \u001b[1;33m+\u001b[0m \u001b[0mstr\u001b[0m\u001b[1;33m(\u001b[0m\u001b[0mround\u001b[0m\u001b[1;33m(\u001b[0m\u001b[0mintercept\u001b[0m\u001b[1;33m,\u001b[0m\u001b[1;36m2\u001b[0m\u001b[1;33m)\u001b[0m\u001b[1;33m)\u001b[0m\u001b[1;33m\u001b[0m\u001b[1;33m\u001b[0m\u001b[0m\n",
      "\u001b[1;31mValueError\u001b[0m: too many values to unpack (expected 5)"
     ]
    },
    {
     "data": {
      "image/png": "[encoded data removed]",
      "text/plain": [
       "<Figure size 432x288 with 1 Axes>"
      ]
     },
     "metadata": {
      "needs_background": "light"
     },
     "output_type": "display_data"
    }
   ],
   "source": [
    "# Call on function 1\n",
    "equation = linear_regression(southern_hemisphere[\"Lat\"], southern_hemisphere[\"Humidity\"])\n",
    "\n",
    "# Call on function 2\n",
    "annotate(equation, -40, 50)\n",
    "\n",
    "# Set title\n",
    "plt.title(\"Southern Hemisphere - Humidity (%) vs. Latitude Linear Regression\")\n",
    "\n",
    "# Set xlabel\n",
    "plt.xlabel(\"Latitude\")\n",
    "\n",
    "# Set ylabel\n",
    "plt.ylabel(\"Humidity (%)\")\n",
    "\n",
    "# Save the figure\n",
    "plt.savefig(\"../Images/Southern Hemisphere - Humidity (%) vs. Latitude Linear Regression.png\")"
   ]
  },
  {
   "cell_type": "markdown",
   "metadata": {},
   "source": [
    "####  Northern Hemisphere - Cloudiness (%) vs. Latitude Linear Regression"
   ]
  },
  {
   "cell_type": "code",
   "execution_count": 70,
   "metadata": {},
   "outputs": [
    {
     "name": "stdout",
     "output_type": "stream",
     "text": [
      "The r-squared is : 0.21\n",
      "The r-squared is : 0.21\n"
     ]
    },
    {
     "ename": "ValueError",
     "evalue": "too many values to unpack (expected 5)",
     "output_type": "error",
     "traceback": [
      "\u001b[1;31m---------------------------------------------------------------------------\u001b[0m",
      "\u001b[1;31mValueError\u001b[0m                                Traceback (most recent call last)",
      "\u001b[1;32m<ipython-input-70-e5fd13f840be>\u001b[0m in \u001b[0;36m<module>\u001b[1;34m\u001b[0m\n\u001b[0;32m      1\u001b[0m \u001b[1;31m# Call on function 1\u001b[0m\u001b[1;33m\u001b[0m\u001b[1;33m\u001b[0m\u001b[1;33m\u001b[0m\u001b[0m\n\u001b[1;32m----> 2\u001b[1;33m \u001b[0mequation\u001b[0m \u001b[1;33m=\u001b[0m \u001b[0mlinear_regression\u001b[0m\u001b[1;33m(\u001b[0m\u001b[0mnorthern_hemisphere\u001b[0m\u001b[1;33m[\u001b[0m\u001b[1;34m\"Lat\"\u001b[0m\u001b[1;33m]\u001b[0m\u001b[1;33m,\u001b[0m \u001b[0mnorthern_hemisphere\u001b[0m\u001b[1;33m[\u001b[0m\u001b[1;34m\"Cloudiness\"\u001b[0m\u001b[1;33m]\u001b[0m\u001b[1;33m)\u001b[0m\u001b[1;33m\u001b[0m\u001b[1;33m\u001b[0m\u001b[0m\n\u001b[0m\u001b[0;32m      3\u001b[0m \u001b[1;33m\u001b[0m\u001b[0m\n\u001b[0;32m      4\u001b[0m \u001b[1;31m# Call on function #2\u001b[0m\u001b[1;33m\u001b[0m\u001b[1;33m\u001b[0m\u001b[1;33m\u001b[0m\u001b[0m\n\u001b[0;32m      5\u001b[0m \u001b[0mannotate\u001b[0m\u001b[1;33m(\u001b[0m\u001b[0mequation\u001b[0m\u001b[1;33m,\u001b[0m \u001b[1;36m30\u001b[0m\u001b[1;33m,\u001b[0m \u001b[1;36m40\u001b[0m\u001b[1;33m)\u001b[0m\u001b[1;33m\u001b[0m\u001b[1;33m\u001b[0m\u001b[0m\n",
      "\u001b[1;32m<ipython-input-65-a7ef7b0583a1>\u001b[0m in \u001b[0;36mlinear_regression\u001b[1;34m(x, y)\u001b[0m\n\u001b[0;32m      2\u001b[0m \u001b[1;32mdef\u001b[0m \u001b[0mlinear_regression\u001b[0m\u001b[1;33m(\u001b[0m\u001b[0mx\u001b[0m\u001b[1;33m,\u001b[0m\u001b[0my\u001b[0m\u001b[1;33m)\u001b[0m\u001b[1;33m:\u001b[0m\u001b[1;33m\u001b[0m\u001b[1;33m\u001b[0m\u001b[0m\n\u001b[0;32m      3\u001b[0m     \u001b[0mprint\u001b[0m\u001b[1;33m(\u001b[0m\u001b[1;34mf\"The r-squared is : {round(st.pearsonr(x, y)[0],2)}\"\u001b[0m\u001b[1;33m)\u001b[0m\u001b[1;33m\u001b[0m\u001b[1;33m\u001b[0m\u001b[0m\n\u001b[1;32m----> 4\u001b[1;33m     \u001b[1;33m(\u001b[0m\u001b[0mslope\u001b[0m\u001b[1;33m,\u001b[0m \u001b[0mintercept\u001b[0m\u001b[1;33m,\u001b[0m \u001b[0mrvalue\u001b[0m\u001b[1;33m,\u001b[0m \u001b[0mpvalue\u001b[0m\u001b[1;33m,\u001b[0m \u001b[0mstderr\u001b[0m\u001b[1;33m)\u001b[0m \u001b[1;33m=\u001b[0m \u001b[0mlinregress\u001b[0m\u001b[1;33m(\u001b[0m\u001b[0mx\u001b[0m\u001b[1;33m,\u001b[0m \u001b[0my\u001b[0m\u001b[1;33m)\u001b[0m\u001b[1;33m\u001b[0m\u001b[1;33m\u001b[0m\u001b[0m\n\u001b[0m\u001b[0;32m      5\u001b[0m     \u001b[0mregression_values\u001b[0m \u001b[1;33m=\u001b[0m \u001b[0mx\u001b[0m \u001b[1;33m*\u001b[0m \u001b[0mslope\u001b[0m \u001b[1;33m+\u001b[0m \u001b[0mintercept\u001b[0m\u001b[1;33m\u001b[0m\u001b[1;33m\u001b[0m\u001b[0m\n\u001b[0;32m      6\u001b[0m     \u001b[0mline_eq\u001b[0m \u001b[1;33m=\u001b[0m \u001b[1;34m\"y = \"\u001b[0m \u001b[1;33m+\u001b[0m \u001b[0mstr\u001b[0m\u001b[1;33m(\u001b[0m\u001b[0mround\u001b[0m\u001b[1;33m(\u001b[0m\u001b[0mslope\u001b[0m\u001b[1;33m,\u001b[0m\u001b[1;36m2\u001b[0m\u001b[1;33m)\u001b[0m\u001b[1;33m)\u001b[0m \u001b[1;33m+\u001b[0m \u001b[1;34m\"x + \"\u001b[0m \u001b[1;33m+\u001b[0m \u001b[0mstr\u001b[0m\u001b[1;33m(\u001b[0m\u001b[0mround\u001b[0m\u001b[1;33m(\u001b[0m\u001b[0mintercept\u001b[0m\u001b[1;33m,\u001b[0m\u001b[1;36m2\u001b[0m\u001b[1;33m)\u001b[0m\u001b[1;33m)\u001b[0m\u001b[1;33m\u001b[0m\u001b[1;33m\u001b[0m\u001b[0m\n",
      "\u001b[1;31mValueError\u001b[0m: too many values to unpack (expected 5)"
     ]
    },
    {
     "data": {
      "image/png": "[encoded data removed]",
      "text/plain": [
       "<Figure size 432x288 with 1 Axes>"
      ]
     },
     "metadata": {
      "needs_background": "light"
     },
     "output_type": "display_data"
    }
   ],
   "source": [
    "# Call on function 1\n",
    "equation = linear_regression(northern_hemisphere[\"Lat\"], northern_hemisphere[\"Cloudiness\"])\n",
    "\n",
    "# Call on function #2\n",
    "annotate(equation, 30, 40)\n",
    "\n",
    "# Set a title\n",
    "plt.title(\"Northern Hemisphere - Cloudiness (%) vs. Latitude Linear Regression\")\n",
    "\n",
    "# Set xlabel\n",
    "plt.xlabel(\"Latitude\")\n",
    "\n",
    "# Set ylabel\n",
    "plt.ylabel(\"Cloudiness (%)\")\n",
    "\n",
    "# Save the figure\n",
    "plt.savefig(\"../Images/Northern Hemisphere - Cloudiness (%) vs. Latitude Linear Regression.png\")"
   ]
  },
  {
   "cell_type": "markdown",
   "metadata": {},
   "source": [
    "####  Southern Hemisphere - Cloudiness (%) vs. Latitude Linear Regression"
   ]
  },
  {
   "cell_type": "code",
   "execution_count": 58,
   "metadata": {},
   "outputs": [
    {
     "name": "stdout",
     "output_type": "stream",
     "text": [
      "The r-squared is : 0.33\n",
      "The r-squared is : 0.33\n"
     ]
    },
    {
     "ename": "ValueError",
     "evalue": "too many values to unpack (expected 5)",
     "output_type": "error",
     "traceback": [
      "\u001b[1;31m---------------------------------------------------------------------------\u001b[0m",
      "\u001b[1;31mValueError\u001b[0m                                Traceback (most recent call last)",
      "\u001b[1;32m<ipython-input-58-a95c95ac86b5>\u001b[0m in \u001b[0;36m<module>\u001b[1;34m\u001b[0m\n\u001b[0;32m      1\u001b[0m \u001b[1;31m# Call on function 1\u001b[0m\u001b[1;33m\u001b[0m\u001b[1;33m\u001b[0m\u001b[1;33m\u001b[0m\u001b[0m\n\u001b[1;32m----> 2\u001b[1;33m \u001b[0mequation\u001b[0m \u001b[1;33m=\u001b[0m \u001b[0mlinear_agression\u001b[0m\u001b[1;33m(\u001b[0m\u001b[0msouthern_hemisphere\u001b[0m\u001b[1;33m[\u001b[0m\u001b[1;34m\"Lat\"\u001b[0m\u001b[1;33m]\u001b[0m\u001b[1;33m,\u001b[0m \u001b[0msouthern_hemisphere\u001b[0m\u001b[1;33m[\u001b[0m\u001b[1;34m\"Cloudiness\"\u001b[0m\u001b[1;33m]\u001b[0m\u001b[1;33m)\u001b[0m\u001b[1;33m\u001b[0m\u001b[1;33m\u001b[0m\u001b[0m\n\u001b[0m\u001b[0;32m      3\u001b[0m \u001b[1;33m\u001b[0m\u001b[0m\n\u001b[0;32m      4\u001b[0m \u001b[1;31m# Call on function 2\u001b[0m\u001b[1;33m\u001b[0m\u001b[1;33m\u001b[0m\u001b[1;33m\u001b[0m\u001b[0m\n\u001b[0;32m      5\u001b[0m \u001b[0mannotate\u001b[0m\u001b[1;33m(\u001b[0m\u001b[0mequation\u001b[0m\u001b[1;33m,\u001b[0m \u001b[1;33m-\u001b[0m\u001b[1;36m30\u001b[0m\u001b[1;33m,\u001b[0m \u001b[1;36m40\u001b[0m\u001b[1;33m)\u001b[0m\u001b[1;33m\u001b[0m\u001b[1;33m\u001b[0m\u001b[0m\n",
      "\u001b[1;32m<ipython-input-52-8d05a0b0263b>\u001b[0m in \u001b[0;36mlinear_agression\u001b[1;34m(x, y)\u001b[0m\n\u001b[0;32m      2\u001b[0m \u001b[1;32mdef\u001b[0m \u001b[0mlinear_agression\u001b[0m\u001b[1;33m(\u001b[0m\u001b[0mx\u001b[0m\u001b[1;33m,\u001b[0m\u001b[0my\u001b[0m\u001b[1;33m)\u001b[0m\u001b[1;33m:\u001b[0m\u001b[1;33m\u001b[0m\u001b[1;33m\u001b[0m\u001b[0m\n\u001b[0;32m      3\u001b[0m     \u001b[0mprint\u001b[0m\u001b[1;33m(\u001b[0m\u001b[1;34mf\"The r-squared is : {round(st.pearsonr(x, y)[0],2)}\"\u001b[0m\u001b[1;33m)\u001b[0m\u001b[1;33m\u001b[0m\u001b[1;33m\u001b[0m\u001b[0m\n\u001b[1;32m----> 4\u001b[1;33m     \u001b[1;33m(\u001b[0m\u001b[0mslope\u001b[0m\u001b[1;33m,\u001b[0m \u001b[0mintercept\u001b[0m\u001b[1;33m,\u001b[0m \u001b[0mrvalue\u001b[0m\u001b[1;33m,\u001b[0m \u001b[0mpvalue\u001b[0m\u001b[1;33m,\u001b[0m \u001b[0mstderr\u001b[0m\u001b[1;33m)\u001b[0m \u001b[1;33m=\u001b[0m \u001b[0mlinregress\u001b[0m\u001b[1;33m(\u001b[0m\u001b[0mx\u001b[0m\u001b[1;33m,\u001b[0m \u001b[0my\u001b[0m\u001b[1;33m)\u001b[0m\u001b[1;33m\u001b[0m\u001b[1;33m\u001b[0m\u001b[0m\n\u001b[0m\u001b[0;32m      5\u001b[0m     \u001b[0mregression_values\u001b[0m \u001b[1;33m=\u001b[0m \u001b[0mx\u001b[0m \u001b[1;33m*\u001b[0m \u001b[0mslope\u001b[0m \u001b[1;33m+\u001b[0m \u001b[0mintercept\u001b[0m\u001b[1;33m\u001b[0m\u001b[1;33m\u001b[0m\u001b[0m\n\u001b[0;32m      6\u001b[0m     \u001b[0mline_eq\u001b[0m \u001b[1;33m=\u001b[0m \u001b[1;34m\"y = \"\u001b[0m \u001b[1;33m+\u001b[0m \u001b[0mstr\u001b[0m\u001b[1;33m(\u001b[0m\u001b[0mround\u001b[0m\u001b[1;33m(\u001b[0m\u001b[0mslope\u001b[0m\u001b[1;33m,\u001b[0m\u001b[1;36m2\u001b[0m\u001b[1;33m)\u001b[0m\u001b[1;33m)\u001b[0m \u001b[1;33m+\u001b[0m \u001b[1;34m\"x + \"\u001b[0m \u001b[1;33m+\u001b[0m \u001b[0mstr\u001b[0m\u001b[1;33m(\u001b[0m\u001b[0mround\u001b[0m\u001b[1;33m(\u001b[0m\u001b[0mintercept\u001b[0m\u001b[1;33m,\u001b[0m\u001b[1;36m2\u001b[0m\u001b[1;33m)\u001b[0m\u001b[1;33m)\u001b[0m\u001b[1;33m\u001b[0m\u001b[1;33m\u001b[0m\u001b[0m\n",
      "\u001b[1;31mValueError\u001b[0m: too many values to unpack (expected 5)"
     ]
    },
    {
     "data": {
      "image/png": "[encoded data removed]",
      "text/plain": [
       "<Figure size 432x288 with 1 Axes>"
      ]
     },
     "metadata": {
      "needs_background": "light"
     },
     "output_type": "display_data"
    }
   ],
   "source": [
    "# Call on function 1\n",
    "equation = linear_regression(southern_hemisphere[\"Lat\"], southern_hemisphere[\"Cloudiness\"])\n",
    "\n",
    "# Call on function 2\n",
    "annotate(equation, -30, 40)\n",
    "\n",
    "# Set a title\n",
    "plt.title(\"Southern Hemisphere - Cloudiness (%) vs. Latitude Linear Regression\")\n",
    "\n",
    "# Set xlabel\n",
    "plt.xlabel(\"Latitude\")\n",
    "\n",
    "# Set ylabel\n",
    "plt.ylabel(\"Cloudiness (%)\")\n",
    "\n",
    "# Save the figure\n",
    "plt.savefig(\"../Images/Southern Hemisphere - Cloudiness (%) vs. Latitude Linear Regression.png\")"
   ]
  },
  {
   "cell_type": "markdown",
   "metadata": {},
   "source": [
    "####  Northern Hemisphere - Wind Speed (mph) vs. Latitude Linear Regression"
   ]
  },
  {
   "cell_type": "code",
   "execution_count": 59,
   "metadata": {},
   "outputs": [
    {
     "name": "stdout",
     "output_type": "stream",
     "text": [
      "The r-squared is : 0.14\n",
      "The r-squared is : 0.14\n"
     ]
    },
    {
     "ename": "ValueError",
     "evalue": "too many values to unpack (expected 5)",
     "output_type": "error",
     "traceback": [
      "\u001b[1;31m---------------------------------------------------------------------------\u001b[0m",
      "\u001b[1;31mValueError\u001b[0m                                Traceback (most recent call last)",
      "\u001b[1;32m<ipython-input-59-7daa581c0da1>\u001b[0m in \u001b[0;36m<module>\u001b[1;34m\u001b[0m\n\u001b[0;32m      1\u001b[0m \u001b[1;31m# Call on function 1\u001b[0m\u001b[1;33m\u001b[0m\u001b[1;33m\u001b[0m\u001b[1;33m\u001b[0m\u001b[0m\n\u001b[1;32m----> 2\u001b[1;33m \u001b[0mequation\u001b[0m \u001b[1;33m=\u001b[0m \u001b[0mlinear_agression\u001b[0m\u001b[1;33m(\u001b[0m\u001b[0mnorthern_hemisphere\u001b[0m\u001b[1;33m[\u001b[0m\u001b[1;34m\"Lat\"\u001b[0m\u001b[1;33m]\u001b[0m\u001b[1;33m,\u001b[0m \u001b[0mnorthern_hemisphere\u001b[0m\u001b[1;33m[\u001b[0m\u001b[1;34m\"Wind Speed\"\u001b[0m\u001b[1;33m]\u001b[0m\u001b[1;33m)\u001b[0m\u001b[1;33m\u001b[0m\u001b[1;33m\u001b[0m\u001b[0m\n\u001b[0m\u001b[0;32m      3\u001b[0m \u001b[1;33m\u001b[0m\u001b[0m\n\u001b[0;32m      4\u001b[0m \u001b[1;31m# Call on function 2\u001b[0m\u001b[1;33m\u001b[0m\u001b[1;33m\u001b[0m\u001b[1;33m\u001b[0m\u001b[0m\n\u001b[0;32m      5\u001b[0m \u001b[0mannotate\u001b[0m\u001b[1;33m(\u001b[0m\u001b[0mequation\u001b[0m\u001b[1;33m,\u001b[0m \u001b[1;36m40\u001b[0m\u001b[1;33m,\u001b[0m \u001b[1;36m20\u001b[0m\u001b[1;33m)\u001b[0m\u001b[1;33m\u001b[0m\u001b[1;33m\u001b[0m\u001b[0m\n",
      "\u001b[1;32m<ipython-input-52-8d05a0b0263b>\u001b[0m in \u001b[0;36mlinear_agression\u001b[1;34m(x, y)\u001b[0m\n\u001b[0;32m      2\u001b[0m \u001b[1;32mdef\u001b[0m \u001b[0mlinear_agression\u001b[0m\u001b[1;33m(\u001b[0m\u001b[0mx\u001b[0m\u001b[1;33m,\u001b[0m\u001b[0my\u001b[0m\u001b[1;33m)\u001b[0m\u001b[1;33m:\u001b[0m\u001b[1;33m\u001b[0m\u001b[1;33m\u001b[0m\u001b[0m\n\u001b[0;32m      3\u001b[0m     \u001b[0mprint\u001b[0m\u001b[1;33m(\u001b[0m\u001b[1;34mf\"The r-squared is : {round(st.pearsonr(x, y)[0],2)}\"\u001b[0m\u001b[1;33m)\u001b[0m\u001b[1;33m\u001b[0m\u001b[1;33m\u001b[0m\u001b[0m\n\u001b[1;32m----> 4\u001b[1;33m     \u001b[1;33m(\u001b[0m\u001b[0mslope\u001b[0m\u001b[1;33m,\u001b[0m \u001b[0mintercept\u001b[0m\u001b[1;33m,\u001b[0m \u001b[0mrvalue\u001b[0m\u001b[1;33m,\u001b[0m \u001b[0mpvalue\u001b[0m\u001b[1;33m,\u001b[0m \u001b[0mstderr\u001b[0m\u001b[1;33m)\u001b[0m \u001b[1;33m=\u001b[0m \u001b[0mlinregress\u001b[0m\u001b[1;33m(\u001b[0m\u001b[0mx\u001b[0m\u001b[1;33m,\u001b[0m \u001b[0my\u001b[0m\u001b[1;33m)\u001b[0m\u001b[1;33m\u001b[0m\u001b[1;33m\u001b[0m\u001b[0m\n\u001b[0m\u001b[0;32m      5\u001b[0m     \u001b[0mregression_values\u001b[0m \u001b[1;33m=\u001b[0m \u001b[0mx\u001b[0m \u001b[1;33m*\u001b[0m \u001b[0mslope\u001b[0m \u001b[1;33m+\u001b[0m \u001b[0mintercept\u001b[0m\u001b[1;33m\u001b[0m\u001b[1;33m\u001b[0m\u001b[0m\n\u001b[0;32m      6\u001b[0m     \u001b[0mline_eq\u001b[0m \u001b[1;33m=\u001b[0m \u001b[1;34m\"y = \"\u001b[0m \u001b[1;33m+\u001b[0m \u001b[0mstr\u001b[0m\u001b[1;33m(\u001b[0m\u001b[0mround\u001b[0m\u001b[1;33m(\u001b[0m\u001b[0mslope\u001b[0m\u001b[1;33m,\u001b[0m\u001b[1;36m2\u001b[0m\u001b[1;33m)\u001b[0m\u001b[1;33m)\u001b[0m \u001b[1;33m+\u001b[0m \u001b[1;34m\"x + \"\u001b[0m \u001b[1;33m+\u001b[0m \u001b[0mstr\u001b[0m\u001b[1;33m(\u001b[0m\u001b[0mround\u001b[0m\u001b[1;33m(\u001b[0m\u001b[0mintercept\u001b[0m\u001b[1;33m,\u001b[0m\u001b[1;36m2\u001b[0m\u001b[1;33m)\u001b[0m\u001b[1;33m)\u001b[0m\u001b[1;33m\u001b[0m\u001b[1;33m\u001b[0m\u001b[0m\n",
      "\u001b[1;31mValueError\u001b[0m: too many values to unpack (expected 5)"
     ]
    },
    {
     "data": {
      "image/png": "[encoded data removed]",
      "text/plain": [
       "<Figure size 432x288 with 1 Axes>"
      ]
     },
     "metadata": {
      "needs_background": "light"
     },
     "output_type": "display_data"
    }
   ],
   "source": [
    "# Call on function 1\n",
    "equation = linear_regression(northern_hemisphere[\"Lat\"], northern_hemisphere[\"Wind Speed\"])\n",
    "\n",
    "# Call on function 2\n",
    "annotate(equation, 40, 20)\n",
    "\n",
    "# Set  title\n",
    "plt.title(\"Northern Hemisphere - Wind Speed (mph) vs. Latitude Linear Regression\")\n",
    "\n",
    "# Set xlabel\n",
    "plt.xlabel(\"Latitude\")\n",
    "\n",
    "# Set ylabel\n",
    "plt.ylabel(\"Wind Speed (mph)\")\n",
    "\n",
    "# Save the figure\n",
    "plt.savefig(\"../Images/Northern Hemisphere - Wind Speed vs. Latitude Linear Regression.png\")"
   ]
  },
  {
   "cell_type": "markdown",
   "metadata": {},
   "source": [
    "####  Southern Hemisphere - Wind Speed (mph) vs. Latitude Linear Regression"
   ]
  },
  {
   "cell_type": "code",
   "execution_count": 71,
   "metadata": {},
   "outputs": [
    {
     "name": "stdout",
     "output_type": "stream",
     "text": [
      "The r-squared is : -0.32\n",
      "The r-squared is : -0.32\n"
     ]
    },
    {
     "ename": "ValueError",
     "evalue": "too many values to unpack (expected 5)",
     "output_type": "error",
     "traceback": [
      "\u001b[1;31m---------------------------------------------------------------------------\u001b[0m",
      "\u001b[1;31mValueError\u001b[0m                                Traceback (most recent call last)",
      "\u001b[1;32m<ipython-input-71-b3adc8b2381f>\u001b[0m in \u001b[0;36m<module>\u001b[1;34m\u001b[0m\n\u001b[0;32m      1\u001b[0m \u001b[1;31m# Call on function 1\u001b[0m\u001b[1;33m\u001b[0m\u001b[1;33m\u001b[0m\u001b[1;33m\u001b[0m\u001b[0m\n\u001b[1;32m----> 2\u001b[1;33m \u001b[0mequation\u001b[0m \u001b[1;33m=\u001b[0m \u001b[0mlinear_regression\u001b[0m\u001b[1;33m(\u001b[0m\u001b[0msouthern_hemisphere\u001b[0m\u001b[1;33m[\u001b[0m\u001b[1;34m\"Lat\"\u001b[0m\u001b[1;33m]\u001b[0m\u001b[1;33m,\u001b[0m \u001b[0msouthern_hemisphere\u001b[0m\u001b[1;33m[\u001b[0m\u001b[1;34m\"Wind Speed\"\u001b[0m\u001b[1;33m]\u001b[0m\u001b[1;33m)\u001b[0m\u001b[1;33m\u001b[0m\u001b[1;33m\u001b[0m\u001b[0m\n\u001b[0m\u001b[0;32m      3\u001b[0m \u001b[1;33m\u001b[0m\u001b[0m\n\u001b[0;32m      4\u001b[0m \u001b[1;31m# Call on function 2\u001b[0m\u001b[1;33m\u001b[0m\u001b[1;33m\u001b[0m\u001b[1;33m\u001b[0m\u001b[0m\n\u001b[0;32m      5\u001b[0m \u001b[0mannotate\u001b[0m\u001b[1;33m(\u001b[0m\u001b[0mequation\u001b[0m\u001b[1;33m,\u001b[0m \u001b[1;33m-\u001b[0m\u001b[1;36m30\u001b[0m\u001b[1;33m,\u001b[0m \u001b[1;36m15\u001b[0m\u001b[1;33m)\u001b[0m\u001b[1;33m\u001b[0m\u001b[1;33m\u001b[0m\u001b[0m\n",
      "\u001b[1;32m<ipython-input-65-a7ef7b0583a1>\u001b[0m in \u001b[0;36mlinear_regression\u001b[1;34m(x, y)\u001b[0m\n\u001b[0;32m      2\u001b[0m \u001b[1;32mdef\u001b[0m \u001b[0mlinear_regression\u001b[0m\u001b[1;33m(\u001b[0m\u001b[0mx\u001b[0m\u001b[1;33m,\u001b[0m\u001b[0my\u001b[0m\u001b[1;33m)\u001b[0m\u001b[1;33m:\u001b[0m\u001b[1;33m\u001b[0m\u001b[1;33m\u001b[0m\u001b[0m\n\u001b[0;32m      3\u001b[0m     \u001b[0mprint\u001b[0m\u001b[1;33m(\u001b[0m\u001b[1;34mf\"The r-squared is : {round(st.pearsonr(x, y)[0],2)}\"\u001b[0m\u001b[1;33m)\u001b[0m\u001b[1;33m\u001b[0m\u001b[1;33m\u001b[0m\u001b[0m\n\u001b[1;32m----> 4\u001b[1;33m     \u001b[1;33m(\u001b[0m\u001b[0mslope\u001b[0m\u001b[1;33m,\u001b[0m \u001b[0mintercept\u001b[0m\u001b[1;33m,\u001b[0m \u001b[0mrvalue\u001b[0m\u001b[1;33m,\u001b[0m \u001b[0mpvalue\u001b[0m\u001b[1;33m,\u001b[0m \u001b[0mstderr\u001b[0m\u001b[1;33m)\u001b[0m \u001b[1;33m=\u001b[0m \u001b[0mlinregress\u001b[0m\u001b[1;33m(\u001b[0m\u001b[0mx\u001b[0m\u001b[1;33m,\u001b[0m \u001b[0my\u001b[0m\u001b[1;33m)\u001b[0m\u001b[1;33m\u001b[0m\u001b[1;33m\u001b[0m\u001b[0m\n\u001b[0m\u001b[0;32m      5\u001b[0m     \u001b[0mregression_values\u001b[0m \u001b[1;33m=\u001b[0m \u001b[0mx\u001b[0m \u001b[1;33m*\u001b[0m \u001b[0mslope\u001b[0m \u001b[1;33m+\u001b[0m \u001b[0mintercept\u001b[0m\u001b[1;33m\u001b[0m\u001b[1;33m\u001b[0m\u001b[0m\n\u001b[0;32m      6\u001b[0m     \u001b[0mline_eq\u001b[0m \u001b[1;33m=\u001b[0m \u001b[1;34m\"y = \"\u001b[0m \u001b[1;33m+\u001b[0m \u001b[0mstr\u001b[0m\u001b[1;33m(\u001b[0m\u001b[0mround\u001b[0m\u001b[1;33m(\u001b[0m\u001b[0mslope\u001b[0m\u001b[1;33m,\u001b[0m\u001b[1;36m2\u001b[0m\u001b[1;33m)\u001b[0m\u001b[1;33m)\u001b[0m \u001b[1;33m+\u001b[0m \u001b[1;34m\"x + \"\u001b[0m \u001b[1;33m+\u001b[0m \u001b[0mstr\u001b[0m\u001b[1;33m(\u001b[0m\u001b[0mround\u001b[0m\u001b[1;33m(\u001b[0m\u001b[0mintercept\u001b[0m\u001b[1;33m,\u001b[0m\u001b[1;36m2\u001b[0m\u001b[1;33m)\u001b[0m\u001b[1;33m)\u001b[0m\u001b[1;33m\u001b[0m\u001b[1;33m\u001b[0m\u001b[0m\n",
      "\u001b[1;31mValueError\u001b[0m: too many values to unpack (expected 5)"
     ]
    },
    {
     "data": {
      "image/png": "[encoded data removed]",
      "text/plain": [
       "<Figure size 432x288 with 1 Axes>"
      ]
     },
     "metadata": {
      "needs_background": "light"
     },
     "output_type": "display_data"
    }
   ],
   "source": [
    "# Call on function 1\n",
    "equation = linear_regression(southern_hemisphere[\"Lat\"], southern_hemisphere[\"Wind Speed\"])\n",
    "\n",
    "# Call on function 2\n",
    "annotate(equation, -30, 15)\n",
    "\n",
    "# Set  title\n",
    "plt.title(\"Southern Hemisphere - Wind Speed (mph) vs. Latitude Linear Regression\")\n",
    "\n",
    "# Set xlabel\n",
    "plt.xlabel(\"Latitude\")\n",
    "\n",
    "# Set ylabel\n",
    "plt.ylabel(\"Wind Speed (mph)\")\n",
    "\n",
    "# Save the figure\n",
    "plt.savefig(\"../Images/Southern Hemisphere - Wind Speed vs. Latitude Linear Regression.png\")"
   ]
  },
  {
   "cell_type": "code",
   "execution_count": null,
   "metadata": {},
   "outputs": [],
   "source": []
  }
 ],
 "metadata": {
  "anaconda-cloud": {},
  "kernel_info": {
   "name": "python3"
  },
  "kernelspec": {
   "display_name": "Python 3",
   "language": "python",
   "name": "python3"
  },
  "language_info": {
   "codemirror_mode": {
    "name": "ipython",
    "version": 3
   },
   "file_extension": ".py",
   "mimetype": "text/x-python",
   "name": "python",
   "nbconvert_exporter": "python",
   "pygments_lexer": "ipython3",
   "version": "3.8.5"
  },
  "latex_envs": {
   "LaTeX_envs_menu_present": true,
   "autoclose": false,
   "autocomplete": true,
   "bibliofile": "biblio.bib",
   "cite_by": "apalike",
   "current_citInitial": 1,
   "eqLabelWithNumbers": true,
   "eqNumInitial": 1,
   "hotkeys": {
    "equation": "Ctrl-E",
    "itemize": "Ctrl-I"
   },
   "labels_anchors": false,
   "latex_user_defs": false,
   "report_style_numbering": false,
   "user_envs_cfg": false
  },
  "nteract": {
   "version": "0.12.3"
  }
 },
 "nbformat": 4,
 "nbformat_minor": 2
}
